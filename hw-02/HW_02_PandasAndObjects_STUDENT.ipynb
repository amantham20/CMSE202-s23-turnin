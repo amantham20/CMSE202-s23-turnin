{
  "cells": [
    {
      "cell_type": "markdown",
      "metadata": {
        "id": "view-in-github",
        "colab_type": "text"
      },
      "source": [
        "<a href=\"https://colab.research.google.com/github/amantham20/CMSE202-s23-turnin/blob/master/hw-02/HW_02_PandasAndObjects_STUDENT.ipynb\" target=\"_parent\"><img src=\"https://colab.research.google.com/assets/colab-badge.svg\" alt=\"Open In Colab\"/></a>"
      ]
    },
    {
      "cell_type": "markdown",
      "id": "a6fc03da-0d19-4917-b456-4715305be431",
      "metadata": {
        "tags": [],
        "id": "a6fc03da-0d19-4917-b456-4715305be431"
      },
      "source": [
        "# Homework Assignment #2 (Individual)\n",
        "## Pandas Review and Python Classes"
      ]
    },
    {
      "cell_type": "markdown",
      "id": "551a7128-acad-4dd2-a55c-1ec6bcd11780",
      "metadata": {
        "tags": [],
        "id": "551a7128-acad-4dd2-a55c-1ec6bcd11780"
      },
      "source": [
        "\n",
        "\n",
        "### <p style=\"text-align: right;\"> &#9989; Aman Dhruva Thamminana</p>\n",
        "### <p style=\"text-align: right;\"> &#9989; amantham20.</p>"
      ]
    },
    {
      "cell_type": "markdown",
      "id": "92a96ec6-b7d2-4db0-9320-32393f7a8c5a",
      "metadata": {
        "jp-MarkdownHeadingCollapsed": true,
        "tags": [],
        "id": "92a96ec6-b7d2-4db0-9320-32393f7a8c5a"
      },
      "source": [
        "### Goals for this homework assignment\n",
        "By the end of this assignment, you should be able to:\n",
        "- Write a generalizable class to store data\n",
        "- Write subclasses that inherit general variables and methods from a parent class\n",
        "- Identify key pieces of information that need to be stored as class variables\n",
        "- Write methods that fetch and modify class variables \n",
        "- Write a function that instantiates new objects given some initial set of parameters\n",
        "\n",
        "Work through the following assignment, making sure to follow all of the directions and answer all of the questions.\n",
        "\n",
        "There are **100 points** possible on this assignment. Point values for each part are included in the section headers and question prompts.\n",
        "\n",
        "**This assignment is due in roughly two weeks from now at 11:59 pm on February 17th.** It should be uploaded into the \"Homework Assignments\" submission folder for Homework #2.  Submission instructions can be found at the end of the notebook."
      ]
    },
    {
      "cell_type": "markdown",
      "id": "509920a9-f9f8-45cf-8bc9-c427386a6369",
      "metadata": {
        "id": "509920a9-f9f8-45cf-8bc9-c427386a6369"
      },
      "source": [
        "---\n",
        "# Part 0: Add to your Git repository to track your progress on your assignment (5 points)\n",
        "\n",
        "For this assignment, you're going to add it to the `cmse202-s23-turnin` repository you created in class so that you can track your progress on the assignment and preserve the final version that you turn in. In order to do this you need to\n",
        "\n",
        "**&#9989; Do the following**:\n",
        "\n",
        "1. Navigate to your `cmse202-s23-turnin` repository and create a new directory called `hw-02`.\n",
        "2. Move this notebook into that **new directory** in your repository, then **add it and commit it to your repository**.\n",
        "1. Finally, to test that everything is working, \"git push\" the file so that it ends up in your GitHub repository.\n",
        "\n",
        "**Important**: Double check you've added your Professor and your TA as collaborators to your \"turnin\" repository (you should have done this in the previous homework assignment).\n",
        "\n",
        "**Also important**: Make sure that the version of this notebook that you are working on is the same one that you just added to your repository! If you are working on a different copy of the notebook, **none of your changes will be tracked**!\n",
        "\n",
        "If everything went as intended, the file should now show up on your GitHub account in the \"`cmse202-s23-turnin`\" repository inside the `hw-02` directory that you just created.  Periodically, **you'll be asked to commit your changes to the repository and push them to the remote GitHub location**. Of course, you can always commit your changes more often than that, if you wish.  It can be good to get into a habit of committing your changes any time you make a significant modification, or when you stop working on the project for a bit.\n",
        "\n",
        "&#9989; **Do this**: Before you move on, put the command that your instructor should run to clone your repository in the markdown cell below."
      ]
    },
    {
      "cell_type": "markdown",
      "id": "b2153390-6686-464b-83e4-6c97d4115138",
      "metadata": {
        "id": "b2153390-6686-464b-83e4-6c97d4115138"
      },
      "source": [
        "`git clone https://github.com/amantham20/CMSE202-s23-turnin.git`\n",
        "\n",
        "\n",
        "-\n",
        "\n",
        "`hw-02\\`"
      ]
    },
    {
      "cell_type": "markdown",
      "id": "3a5d7f72",
      "metadata": {
        "id": "3a5d7f72"
      },
      "source": [
        "---\n",
        "\n",
        "### &#128721; STOP (3 Points)\n",
        "**Pause to commit your changes to your Git repository!**\n",
        "Take a moment to save your notebook, commit the changes to your Git repository with a meaningful commit message.\n",
        "\n",
        "---"
      ]
    },
    {
      "cell_type": "markdown",
      "id": "472e909c-763c-4019-bf12-2b7c23a6abf1",
      "metadata": {
        "tags": [],
        "id": "472e909c-763c-4019-bf12-2b7c23a6abf1"
      },
      "source": [
        "# Part 1: Loading a new dataset and visualize it (22 Points)\n",
        "\n",
        "An important aspect of the recent lessons has been to look at an unknown dataset, use `pandas` to load it into a dataframe, analyze it, and finally visualize it. In the following, we will download a two-part dataset from the web and analyze it. It goes in a familiar direction: Animals. \n",
        "\n",
        "We will look at the following datasets\n",
        "\n",
        "`https://raw.githubusercontent.com/msu-cmse-courses/cmse202-S23-data/main/HW/HW2/zoo.csv` \n",
        "\n",
        "`https://raw.githubusercontent.com/msu-cmse-courses/cmse202-S23-data/main/HW/HW2/class.csv`\n",
        "\n",
        "which [comes from here](https://www.kaggle.com/datasets/uciml/zoo-animal-classification).\n",
        "\n",
        "\n"
      ]
    },
    {
      "cell_type": "markdown",
      "id": "cc162c33",
      "metadata": {
        "id": "cc162c33"
      },
      "source": [
        "## Part 1.1 Downloading the Data (2 points)\n",
        "\n",
        "Write the commands you used to download the datasets in the Jupyter notebook cell below."
      ]
    },
    {
      "cell_type": "code",
      "execution_count": 3,
      "id": "f508397a",
      "metadata": {
        "colab": {
          "base_uri": "https://localhost:8080/"
        },
        "id": "f508397a",
        "outputId": "f0fc4fe2-3a88-4a56-951b-73f88b63f482"
      },
      "outputs": [
        {
          "output_type": "stream",
          "name": "stdout",
          "text": [
            "  % Total    % Received % Xferd  Average Speed   Time    Time     Time  Current\n",
            "                                 Dload  Upload   Total   Spent    Left  Speed\n",
            "100  4368  100  4368    0     0  22869      0 --:--:-- --:--:-- --:--:-- 22869\n"
          ]
        }
      ],
      "source": [
        "#Write code here\n",
        "!curl -O https://raw.githubusercontent.com/msu-cmse-courses/cmse202-S23-data/main/HW/HW2/zoo.csv"
      ]
    },
    {
      "cell_type": "code",
      "source": [
        "!curl -O https://raw.githubusercontent.com/msu-cmse-courses/cmse202-S23-data/main/HW/HW2/class.csv"
      ],
      "metadata": {
        "colab": {
          "base_uri": "https://localhost:8080/"
        },
        "id": "JUEa2SSpTnWH",
        "outputId": "19279539-8c39-4142-d9e2-b6006edc962f"
      },
      "id": "JUEa2SSpTnWH",
      "execution_count": 4,
      "outputs": [
        {
          "output_type": "stream",
          "name": "stdout",
          "text": [
            "  % Total    % Received % Xferd  Average Speed   Time    Time     Time  Current\n",
            "                                 Dload  Upload   Total   Spent    Left  Speed\n",
            "100   963  100   963    0     0   5944      0 --:--:-- --:--:-- --:--:--  5944\n"
          ]
        }
      ]
    },
    {
      "cell_type": "markdown",
      "id": "9e024c90",
      "metadata": {
        "id": "9e024c90"
      },
      "source": [
        "## Part 1.2 Viewing the Dataset using the Command Line (2 points)\n",
        "\n",
        "Open a terminal and use the **commandline** to view the datasets with the tools you learned in class or others that you know. Write the commands you used in the command line below."
      ]
    },
    {
      "cell_type": "code",
      "execution_count": 5,
      "id": "9d5311cf",
      "metadata": {
        "colab": {
          "base_uri": "https://localhost:8080/"
        },
        "id": "9d5311cf",
        "outputId": "ab2a1055-3592-4820-d384-582b172b80a6"
      },
      "outputs": [
        {
          "output_type": "stream",
          "name": "stdout",
          "text": [
            "Class_Number,Number_Of_Animal_Species_In_Class,Class_Type,Animal_Names\n",
            "1,41,Mammal,\"aardvark, antelope, bear, boar, buffalo, calf, cavy, cheetah, deer,\n",
            " dolphin, elephant, fruitbat, giraffe, girl, goat, gorilla, hamster, hare, leopa\n",
            "rd, lion, lynx, mink, mole, mongoose, opossum, oryx, platypus, polecat, pony, po\n",
            "rpoise, puma, pussycat, raccoon, reindeer, seal, sealion, squirrel, vampire, vol\n",
            "e, wallaby, wolf\"\n",
            "2,20,Bird,\"chicken, crow, dove, duck, flamingo, gull, hawk, kiwi, lark, ostrich,\n",
            " parakeet, penguin, pheasant, rhea, skimmer, skua, sparrow, swan, vulture, wren\"\n",
            "\n",
            "3,5,Reptile,\"pitviper, seasnake, slowworm, tortoise, tuatara\"\n",
            "4,13,Fish,\"bass, carp, catfish, chub, dogfish, haddock, herring, pike, piranha, \n",
            "seahorse, sole, stingray, tuna\"\n",
            "5,4,Amphibian,\"frog, frog, newt, toad\"\n",
            "6,8,Bug,\"flea, gnat, honeybee, housefly, ladybird, moth, termite, wasp\"\n",
            "7,10,Invertebrate,\"clam, crab, crayfish, lobster, octopus, scorpion, seawasp, sl\n",
            "ug, starfish, worm\"\n"
          ]
        }
      ],
      "source": [
        "#Write your commands here\n",
        "!more class.csv"
      ]
    },
    {
      "cell_type": "markdown",
      "id": "b020e726",
      "metadata": {
        "id": "b020e726"
      },
      "source": [
        "## Part 1.3 Describe the Data (2 points)\n",
        "\n",
        "Look at both datasets (`class.csv`, `zoo.csv`). Describe the contents of both datasets (E.g., the column kinds, what they represent, etc.). Pay close attention to the column `class_type` in the `zoo.csv` dataset and the column `class_number` in the `class.csv`."
      ]
    },
    {
      "cell_type": "markdown",
      "id": "50c00d9d",
      "metadata": {
        "id": "50c00d9d"
      },
      "source": [
        "<font size=6 color=\"#009600\">&#9998;</font> There are serveral kinds of datapoints like what annimals are in a class of species. Zoo csv containes each animal with its features like hair feathers, eggs milk etc"
      ]
    },
    {
      "cell_type": "markdown",
      "source": [
        "## Import space"
      ],
      "metadata": {
        "id": "jI6BN4mRVBGg"
      },
      "id": "jI6BN4mRVBGg"
    },
    {
      "cell_type": "code",
      "source": [
        "import pandas as pd\n",
        "import math\n",
        "import numpy as np\n",
        "import matplotlib.pyplot as plt\n"
      ],
      "metadata": {
        "id": "0H2e1V5RU9rU"
      },
      "id": "0H2e1V5RU9rU",
      "execution_count": 6,
      "outputs": []
    },
    {
      "cell_type": "markdown",
      "id": "6ab70fb1-2e61-4339-bdc5-9a0c44113324",
      "metadata": {
        "id": "6ab70fb1-2e61-4339-bdc5-9a0c44113324"
      },
      "source": [
        "## Part 1.4: Read in the Datasets with `pandas` (2 points)\n",
        "\n",
        "&#9989; Use pandas to read in the `zoo.csv` and `class.csv` files into DataFrames."
      ]
    },
    {
      "cell_type": "code",
      "execution_count": 7,
      "id": "b3117200-8b2c-4174-9189-06f9c29cea68",
      "metadata": {
        "id": "b3117200-8b2c-4174-9189-06f9c29cea68"
      },
      "outputs": [],
      "source": [
        "#Write code here\n",
        "zoo_df = pd.read_csv('./zoo.csv')\n",
        "class_df = pd.read_csv('./class.csv')"
      ]
    },
    {
      "cell_type": "code",
      "source": [
        "zoo_df"
      ],
      "metadata": {
        "colab": {
          "base_uri": "https://localhost:8080/",
          "height": 424
        },
        "id": "9MHSNIUhXxJr",
        "outputId": "de32a9d8-aed0-4685-8345-5b41846ca11a"
      },
      "id": "9MHSNIUhXxJr",
      "execution_count": 8,
      "outputs": [
        {
          "output_type": "execute_result",
          "data": {
            "text/plain": [
              "    animal_name  hair  feathers  eggs  milk  airborne  aquatic  predator  \\\n",
              "0      aardvark     1         0     0     1         0        0         1   \n",
              "1      antelope     1         0     0     1         0        0         0   \n",
              "2          bass     0         0     1     0         0        1         1   \n",
              "3          bear     1         0     0     1         0        0         1   \n",
              "4          boar     1         0     0     1         0        0         1   \n",
              "..          ...   ...       ...   ...   ...       ...      ...       ...   \n",
              "96      wallaby     1         0     0     1         0        0         0   \n",
              "97         wasp     1         0     1     0         1        0         0   \n",
              "98         wolf     1         0     0     1         0        0         1   \n",
              "99         worm     0         0     1     0         0        0         0   \n",
              "100        wren     0         1     1     0         1        0         0   \n",
              "\n",
              "     toothed  backbone  breathes  venomous  fins  legs  tail  domestic  \\\n",
              "0          1         1         1         0     0     4     0         0   \n",
              "1          1         1         1         0     0     4     1         0   \n",
              "2          1         1         0         0     1     0     1         0   \n",
              "3          1         1         1         0     0     4     0         0   \n",
              "4          1         1         1         0     0     4     1         0   \n",
              "..       ...       ...       ...       ...   ...   ...   ...       ...   \n",
              "96         1         1         1         0     0     2     1         0   \n",
              "97         0         0         1         1     0     6     0         0   \n",
              "98         1         1         1         0     0     4     1         0   \n",
              "99         0         0         1         0     0     0     0         0   \n",
              "100        0         1         1         0     0     2     1         0   \n",
              "\n",
              "     catsize  class_type  \n",
              "0          1           1  \n",
              "1          1           1  \n",
              "2          0           4  \n",
              "3          1           1  \n",
              "4          1           1  \n",
              "..       ...         ...  \n",
              "96         1           1  \n",
              "97         0           6  \n",
              "98         1           1  \n",
              "99         0           7  \n",
              "100        0           2  \n",
              "\n",
              "[101 rows x 18 columns]"
            ],
            "text/html": [
              "\n",
              "  <div id=\"df-397acada-e9e2-497d-b714-4a6717c50e00\">\n",
              "    <div class=\"colab-df-container\">\n",
              "      <div>\n",
              "<style scoped>\n",
              "    .dataframe tbody tr th:only-of-type {\n",
              "        vertical-align: middle;\n",
              "    }\n",
              "\n",
              "    .dataframe tbody tr th {\n",
              "        vertical-align: top;\n",
              "    }\n",
              "\n",
              "    .dataframe thead th {\n",
              "        text-align: right;\n",
              "    }\n",
              "</style>\n",
              "<table border=\"1\" class=\"dataframe\">\n",
              "  <thead>\n",
              "    <tr style=\"text-align: right;\">\n",
              "      <th></th>\n",
              "      <th>animal_name</th>\n",
              "      <th>hair</th>\n",
              "      <th>feathers</th>\n",
              "      <th>eggs</th>\n",
              "      <th>milk</th>\n",
              "      <th>airborne</th>\n",
              "      <th>aquatic</th>\n",
              "      <th>predator</th>\n",
              "      <th>toothed</th>\n",
              "      <th>backbone</th>\n",
              "      <th>breathes</th>\n",
              "      <th>venomous</th>\n",
              "      <th>fins</th>\n",
              "      <th>legs</th>\n",
              "      <th>tail</th>\n",
              "      <th>domestic</th>\n",
              "      <th>catsize</th>\n",
              "      <th>class_type</th>\n",
              "    </tr>\n",
              "  </thead>\n",
              "  <tbody>\n",
              "    <tr>\n",
              "      <th>0</th>\n",
              "      <td>aardvark</td>\n",
              "      <td>1</td>\n",
              "      <td>0</td>\n",
              "      <td>0</td>\n",
              "      <td>1</td>\n",
              "      <td>0</td>\n",
              "      <td>0</td>\n",
              "      <td>1</td>\n",
              "      <td>1</td>\n",
              "      <td>1</td>\n",
              "      <td>1</td>\n",
              "      <td>0</td>\n",
              "      <td>0</td>\n",
              "      <td>4</td>\n",
              "      <td>0</td>\n",
              "      <td>0</td>\n",
              "      <td>1</td>\n",
              "      <td>1</td>\n",
              "    </tr>\n",
              "    <tr>\n",
              "      <th>1</th>\n",
              "      <td>antelope</td>\n",
              "      <td>1</td>\n",
              "      <td>0</td>\n",
              "      <td>0</td>\n",
              "      <td>1</td>\n",
              "      <td>0</td>\n",
              "      <td>0</td>\n",
              "      <td>0</td>\n",
              "      <td>1</td>\n",
              "      <td>1</td>\n",
              "      <td>1</td>\n",
              "      <td>0</td>\n",
              "      <td>0</td>\n",
              "      <td>4</td>\n",
              "      <td>1</td>\n",
              "      <td>0</td>\n",
              "      <td>1</td>\n",
              "      <td>1</td>\n",
              "    </tr>\n",
              "    <tr>\n",
              "      <th>2</th>\n",
              "      <td>bass</td>\n",
              "      <td>0</td>\n",
              "      <td>0</td>\n",
              "      <td>1</td>\n",
              "      <td>0</td>\n",
              "      <td>0</td>\n",
              "      <td>1</td>\n",
              "      <td>1</td>\n",
              "      <td>1</td>\n",
              "      <td>1</td>\n",
              "      <td>0</td>\n",
              "      <td>0</td>\n",
              "      <td>1</td>\n",
              "      <td>0</td>\n",
              "      <td>1</td>\n",
              "      <td>0</td>\n",
              "      <td>0</td>\n",
              "      <td>4</td>\n",
              "    </tr>\n",
              "    <tr>\n",
              "      <th>3</th>\n",
              "      <td>bear</td>\n",
              "      <td>1</td>\n",
              "      <td>0</td>\n",
              "      <td>0</td>\n",
              "      <td>1</td>\n",
              "      <td>0</td>\n",
              "      <td>0</td>\n",
              "      <td>1</td>\n",
              "      <td>1</td>\n",
              "      <td>1</td>\n",
              "      <td>1</td>\n",
              "      <td>0</td>\n",
              "      <td>0</td>\n",
              "      <td>4</td>\n",
              "      <td>0</td>\n",
              "      <td>0</td>\n",
              "      <td>1</td>\n",
              "      <td>1</td>\n",
              "    </tr>\n",
              "    <tr>\n",
              "      <th>4</th>\n",
              "      <td>boar</td>\n",
              "      <td>1</td>\n",
              "      <td>0</td>\n",
              "      <td>0</td>\n",
              "      <td>1</td>\n",
              "      <td>0</td>\n",
              "      <td>0</td>\n",
              "      <td>1</td>\n",
              "      <td>1</td>\n",
              "      <td>1</td>\n",
              "      <td>1</td>\n",
              "      <td>0</td>\n",
              "      <td>0</td>\n",
              "      <td>4</td>\n",
              "      <td>1</td>\n",
              "      <td>0</td>\n",
              "      <td>1</td>\n",
              "      <td>1</td>\n",
              "    </tr>\n",
              "    <tr>\n",
              "      <th>...</th>\n",
              "      <td>...</td>\n",
              "      <td>...</td>\n",
              "      <td>...</td>\n",
              "      <td>...</td>\n",
              "      <td>...</td>\n",
              "      <td>...</td>\n",
              "      <td>...</td>\n",
              "      <td>...</td>\n",
              "      <td>...</td>\n",
              "      <td>...</td>\n",
              "      <td>...</td>\n",
              "      <td>...</td>\n",
              "      <td>...</td>\n",
              "      <td>...</td>\n",
              "      <td>...</td>\n",
              "      <td>...</td>\n",
              "      <td>...</td>\n",
              "      <td>...</td>\n",
              "    </tr>\n",
              "    <tr>\n",
              "      <th>96</th>\n",
              "      <td>wallaby</td>\n",
              "      <td>1</td>\n",
              "      <td>0</td>\n",
              "      <td>0</td>\n",
              "      <td>1</td>\n",
              "      <td>0</td>\n",
              "      <td>0</td>\n",
              "      <td>0</td>\n",
              "      <td>1</td>\n",
              "      <td>1</td>\n",
              "      <td>1</td>\n",
              "      <td>0</td>\n",
              "      <td>0</td>\n",
              "      <td>2</td>\n",
              "      <td>1</td>\n",
              "      <td>0</td>\n",
              "      <td>1</td>\n",
              "      <td>1</td>\n",
              "    </tr>\n",
              "    <tr>\n",
              "      <th>97</th>\n",
              "      <td>wasp</td>\n",
              "      <td>1</td>\n",
              "      <td>0</td>\n",
              "      <td>1</td>\n",
              "      <td>0</td>\n",
              "      <td>1</td>\n",
              "      <td>0</td>\n",
              "      <td>0</td>\n",
              "      <td>0</td>\n",
              "      <td>0</td>\n",
              "      <td>1</td>\n",
              "      <td>1</td>\n",
              "      <td>0</td>\n",
              "      <td>6</td>\n",
              "      <td>0</td>\n",
              "      <td>0</td>\n",
              "      <td>0</td>\n",
              "      <td>6</td>\n",
              "    </tr>\n",
              "    <tr>\n",
              "      <th>98</th>\n",
              "      <td>wolf</td>\n",
              "      <td>1</td>\n",
              "      <td>0</td>\n",
              "      <td>0</td>\n",
              "      <td>1</td>\n",
              "      <td>0</td>\n",
              "      <td>0</td>\n",
              "      <td>1</td>\n",
              "      <td>1</td>\n",
              "      <td>1</td>\n",
              "      <td>1</td>\n",
              "      <td>0</td>\n",
              "      <td>0</td>\n",
              "      <td>4</td>\n",
              "      <td>1</td>\n",
              "      <td>0</td>\n",
              "      <td>1</td>\n",
              "      <td>1</td>\n",
              "    </tr>\n",
              "    <tr>\n",
              "      <th>99</th>\n",
              "      <td>worm</td>\n",
              "      <td>0</td>\n",
              "      <td>0</td>\n",
              "      <td>1</td>\n",
              "      <td>0</td>\n",
              "      <td>0</td>\n",
              "      <td>0</td>\n",
              "      <td>0</td>\n",
              "      <td>0</td>\n",
              "      <td>0</td>\n",
              "      <td>1</td>\n",
              "      <td>0</td>\n",
              "      <td>0</td>\n",
              "      <td>0</td>\n",
              "      <td>0</td>\n",
              "      <td>0</td>\n",
              "      <td>0</td>\n",
              "      <td>7</td>\n",
              "    </tr>\n",
              "    <tr>\n",
              "      <th>100</th>\n",
              "      <td>wren</td>\n",
              "      <td>0</td>\n",
              "      <td>1</td>\n",
              "      <td>1</td>\n",
              "      <td>0</td>\n",
              "      <td>1</td>\n",
              "      <td>0</td>\n",
              "      <td>0</td>\n",
              "      <td>0</td>\n",
              "      <td>1</td>\n",
              "      <td>1</td>\n",
              "      <td>0</td>\n",
              "      <td>0</td>\n",
              "      <td>2</td>\n",
              "      <td>1</td>\n",
              "      <td>0</td>\n",
              "      <td>0</td>\n",
              "      <td>2</td>\n",
              "    </tr>\n",
              "  </tbody>\n",
              "</table>\n",
              "<p>101 rows × 18 columns</p>\n",
              "</div>\n",
              "      <button class=\"colab-df-convert\" onclick=\"convertToInteractive('df-397acada-e9e2-497d-b714-4a6717c50e00')\"\n",
              "              title=\"Convert this dataframe to an interactive table.\"\n",
              "              style=\"display:none;\">\n",
              "        \n",
              "  <svg xmlns=\"http://www.w3.org/2000/svg\" height=\"24px\"viewBox=\"0 0 24 24\"\n",
              "       width=\"24px\">\n",
              "    <path d=\"M0 0h24v24H0V0z\" fill=\"none\"/>\n",
              "    <path d=\"M18.56 5.44l.94 2.06.94-2.06 2.06-.94-2.06-.94-.94-2.06-.94 2.06-2.06.94zm-11 1L8.5 8.5l.94-2.06 2.06-.94-2.06-.94L8.5 2.5l-.94 2.06-2.06.94zm10 10l.94 2.06.94-2.06 2.06-.94-2.06-.94-.94-2.06-.94 2.06-2.06.94z\"/><path d=\"M17.41 7.96l-1.37-1.37c-.4-.4-.92-.59-1.43-.59-.52 0-1.04.2-1.43.59L10.3 9.45l-7.72 7.72c-.78.78-.78 2.05 0 2.83L4 21.41c.39.39.9.59 1.41.59.51 0 1.02-.2 1.41-.59l7.78-7.78 2.81-2.81c.8-.78.8-2.07 0-2.86zM5.41 20L4 18.59l7.72-7.72 1.47 1.35L5.41 20z\"/>\n",
              "  </svg>\n",
              "      </button>\n",
              "      \n",
              "  <style>\n",
              "    .colab-df-container {\n",
              "      display:flex;\n",
              "      flex-wrap:wrap;\n",
              "      gap: 12px;\n",
              "    }\n",
              "\n",
              "    .colab-df-convert {\n",
              "      background-color: #E8F0FE;\n",
              "      border: none;\n",
              "      border-radius: 50%;\n",
              "      cursor: pointer;\n",
              "      display: none;\n",
              "      fill: #1967D2;\n",
              "      height: 32px;\n",
              "      padding: 0 0 0 0;\n",
              "      width: 32px;\n",
              "    }\n",
              "\n",
              "    .colab-df-convert:hover {\n",
              "      background-color: #E2EBFA;\n",
              "      box-shadow: 0px 1px 2px rgba(60, 64, 67, 0.3), 0px 1px 3px 1px rgba(60, 64, 67, 0.15);\n",
              "      fill: #174EA6;\n",
              "    }\n",
              "\n",
              "    [theme=dark] .colab-df-convert {\n",
              "      background-color: #3B4455;\n",
              "      fill: #D2E3FC;\n",
              "    }\n",
              "\n",
              "    [theme=dark] .colab-df-convert:hover {\n",
              "      background-color: #434B5C;\n",
              "      box-shadow: 0px 1px 3px 1px rgba(0, 0, 0, 0.15);\n",
              "      filter: drop-shadow(0px 1px 2px rgba(0, 0, 0, 0.3));\n",
              "      fill: #FFFFFF;\n",
              "    }\n",
              "  </style>\n",
              "\n",
              "      <script>\n",
              "        const buttonEl =\n",
              "          document.querySelector('#df-397acada-e9e2-497d-b714-4a6717c50e00 button.colab-df-convert');\n",
              "        buttonEl.style.display =\n",
              "          google.colab.kernel.accessAllowed ? 'block' : 'none';\n",
              "\n",
              "        async function convertToInteractive(key) {\n",
              "          const element = document.querySelector('#df-397acada-e9e2-497d-b714-4a6717c50e00');\n",
              "          const dataTable =\n",
              "            await google.colab.kernel.invokeFunction('convertToInteractive',\n",
              "                                                     [key], {});\n",
              "          if (!dataTable) return;\n",
              "\n",
              "          const docLinkHtml = 'Like what you see? Visit the ' +\n",
              "            '<a target=\"_blank\" href=https://colab.research.google.com/notebooks/data_table.ipynb>data table notebook</a>'\n",
              "            + ' to learn more about interactive tables.';\n",
              "          element.innerHTML = '';\n",
              "          dataTable['output_type'] = 'display_data';\n",
              "          await google.colab.output.renderOutput(dataTable, element);\n",
              "          const docLink = document.createElement('div');\n",
              "          docLink.innerHTML = docLinkHtml;\n",
              "          element.appendChild(docLink);\n",
              "        }\n",
              "      </script>\n",
              "    </div>\n",
              "  </div>\n",
              "  "
            ]
          },
          "metadata": {},
          "execution_count": 8
        }
      ]
    },
    {
      "cell_type": "code",
      "source": [
        "class_df"
      ],
      "metadata": {
        "colab": {
          "base_uri": "https://localhost:8080/",
          "height": 269
        },
        "id": "3urthEu2Xxkg",
        "outputId": "64c63ac4-5c5f-4e72-8111-898719fa0599"
      },
      "id": "3urthEu2Xxkg",
      "execution_count": 9,
      "outputs": [
        {
          "output_type": "execute_result",
          "data": {
            "text/plain": [
              "   Class_Number  Number_Of_Animal_Species_In_Class    Class_Type  \\\n",
              "0             1                                 41        Mammal   \n",
              "1             2                                 20          Bird   \n",
              "2             3                                  5       Reptile   \n",
              "3             4                                 13          Fish   \n",
              "4             5                                  4     Amphibian   \n",
              "5             6                                  8           Bug   \n",
              "6             7                                 10  Invertebrate   \n",
              "\n",
              "                                        Animal_Names  \n",
              "0  aardvark, antelope, bear, boar, buffalo, calf,...  \n",
              "1  chicken, crow, dove, duck, flamingo, gull, haw...  \n",
              "2    pitviper, seasnake, slowworm, tortoise, tuatara  \n",
              "3  bass, carp, catfish, chub, dogfish, haddock, h...  \n",
              "4                             frog, frog, newt, toad  \n",
              "5  flea, gnat, honeybee, housefly, ladybird, moth...  \n",
              "6  clam, crab, crayfish, lobster, octopus, scorpi...  "
            ],
            "text/html": [
              "\n",
              "  <div id=\"df-0992f470-5ad3-4d0c-afbd-c5b800a259ee\">\n",
              "    <div class=\"colab-df-container\">\n",
              "      <div>\n",
              "<style scoped>\n",
              "    .dataframe tbody tr th:only-of-type {\n",
              "        vertical-align: middle;\n",
              "    }\n",
              "\n",
              "    .dataframe tbody tr th {\n",
              "        vertical-align: top;\n",
              "    }\n",
              "\n",
              "    .dataframe thead th {\n",
              "        text-align: right;\n",
              "    }\n",
              "</style>\n",
              "<table border=\"1\" class=\"dataframe\">\n",
              "  <thead>\n",
              "    <tr style=\"text-align: right;\">\n",
              "      <th></th>\n",
              "      <th>Class_Number</th>\n",
              "      <th>Number_Of_Animal_Species_In_Class</th>\n",
              "      <th>Class_Type</th>\n",
              "      <th>Animal_Names</th>\n",
              "    </tr>\n",
              "  </thead>\n",
              "  <tbody>\n",
              "    <tr>\n",
              "      <th>0</th>\n",
              "      <td>1</td>\n",
              "      <td>41</td>\n",
              "      <td>Mammal</td>\n",
              "      <td>aardvark, antelope, bear, boar, buffalo, calf,...</td>\n",
              "    </tr>\n",
              "    <tr>\n",
              "      <th>1</th>\n",
              "      <td>2</td>\n",
              "      <td>20</td>\n",
              "      <td>Bird</td>\n",
              "      <td>chicken, crow, dove, duck, flamingo, gull, haw...</td>\n",
              "    </tr>\n",
              "    <tr>\n",
              "      <th>2</th>\n",
              "      <td>3</td>\n",
              "      <td>5</td>\n",
              "      <td>Reptile</td>\n",
              "      <td>pitviper, seasnake, slowworm, tortoise, tuatara</td>\n",
              "    </tr>\n",
              "    <tr>\n",
              "      <th>3</th>\n",
              "      <td>4</td>\n",
              "      <td>13</td>\n",
              "      <td>Fish</td>\n",
              "      <td>bass, carp, catfish, chub, dogfish, haddock, h...</td>\n",
              "    </tr>\n",
              "    <tr>\n",
              "      <th>4</th>\n",
              "      <td>5</td>\n",
              "      <td>4</td>\n",
              "      <td>Amphibian</td>\n",
              "      <td>frog, frog, newt, toad</td>\n",
              "    </tr>\n",
              "    <tr>\n",
              "      <th>5</th>\n",
              "      <td>6</td>\n",
              "      <td>8</td>\n",
              "      <td>Bug</td>\n",
              "      <td>flea, gnat, honeybee, housefly, ladybird, moth...</td>\n",
              "    </tr>\n",
              "    <tr>\n",
              "      <th>6</th>\n",
              "      <td>7</td>\n",
              "      <td>10</td>\n",
              "      <td>Invertebrate</td>\n",
              "      <td>clam, crab, crayfish, lobster, octopus, scorpi...</td>\n",
              "    </tr>\n",
              "  </tbody>\n",
              "</table>\n",
              "</div>\n",
              "      <button class=\"colab-df-convert\" onclick=\"convertToInteractive('df-0992f470-5ad3-4d0c-afbd-c5b800a259ee')\"\n",
              "              title=\"Convert this dataframe to an interactive table.\"\n",
              "              style=\"display:none;\">\n",
              "        \n",
              "  <svg xmlns=\"http://www.w3.org/2000/svg\" height=\"24px\"viewBox=\"0 0 24 24\"\n",
              "       width=\"24px\">\n",
              "    <path d=\"M0 0h24v24H0V0z\" fill=\"none\"/>\n",
              "    <path d=\"M18.56 5.44l.94 2.06.94-2.06 2.06-.94-2.06-.94-.94-2.06-.94 2.06-2.06.94zm-11 1L8.5 8.5l.94-2.06 2.06-.94-2.06-.94L8.5 2.5l-.94 2.06-2.06.94zm10 10l.94 2.06.94-2.06 2.06-.94-2.06-.94-.94-2.06-.94 2.06-2.06.94z\"/><path d=\"M17.41 7.96l-1.37-1.37c-.4-.4-.92-.59-1.43-.59-.52 0-1.04.2-1.43.59L10.3 9.45l-7.72 7.72c-.78.78-.78 2.05 0 2.83L4 21.41c.39.39.9.59 1.41.59.51 0 1.02-.2 1.41-.59l7.78-7.78 2.81-2.81c.8-.78.8-2.07 0-2.86zM5.41 20L4 18.59l7.72-7.72 1.47 1.35L5.41 20z\"/>\n",
              "  </svg>\n",
              "      </button>\n",
              "      \n",
              "  <style>\n",
              "    .colab-df-container {\n",
              "      display:flex;\n",
              "      flex-wrap:wrap;\n",
              "      gap: 12px;\n",
              "    }\n",
              "\n",
              "    .colab-df-convert {\n",
              "      background-color: #E8F0FE;\n",
              "      border: none;\n",
              "      border-radius: 50%;\n",
              "      cursor: pointer;\n",
              "      display: none;\n",
              "      fill: #1967D2;\n",
              "      height: 32px;\n",
              "      padding: 0 0 0 0;\n",
              "      width: 32px;\n",
              "    }\n",
              "\n",
              "    .colab-df-convert:hover {\n",
              "      background-color: #E2EBFA;\n",
              "      box-shadow: 0px 1px 2px rgba(60, 64, 67, 0.3), 0px 1px 3px 1px rgba(60, 64, 67, 0.15);\n",
              "      fill: #174EA6;\n",
              "    }\n",
              "\n",
              "    [theme=dark] .colab-df-convert {\n",
              "      background-color: #3B4455;\n",
              "      fill: #D2E3FC;\n",
              "    }\n",
              "\n",
              "    [theme=dark] .colab-df-convert:hover {\n",
              "      background-color: #434B5C;\n",
              "      box-shadow: 0px 1px 3px 1px rgba(0, 0, 0, 0.15);\n",
              "      filter: drop-shadow(0px 1px 2px rgba(0, 0, 0, 0.3));\n",
              "      fill: #FFFFFF;\n",
              "    }\n",
              "  </style>\n",
              "\n",
              "      <script>\n",
              "        const buttonEl =\n",
              "          document.querySelector('#df-0992f470-5ad3-4d0c-afbd-c5b800a259ee button.colab-df-convert');\n",
              "        buttonEl.style.display =\n",
              "          google.colab.kernel.accessAllowed ? 'block' : 'none';\n",
              "\n",
              "        async function convertToInteractive(key) {\n",
              "          const element = document.querySelector('#df-0992f470-5ad3-4d0c-afbd-c5b800a259ee');\n",
              "          const dataTable =\n",
              "            await google.colab.kernel.invokeFunction('convertToInteractive',\n",
              "                                                     [key], {});\n",
              "          if (!dataTable) return;\n",
              "\n",
              "          const docLinkHtml = 'Like what you see? Visit the ' +\n",
              "            '<a target=\"_blank\" href=https://colab.research.google.com/notebooks/data_table.ipynb>data table notebook</a>'\n",
              "            + ' to learn more about interactive tables.';\n",
              "          element.innerHTML = '';\n",
              "          dataTable['output_type'] = 'display_data';\n",
              "          await google.colab.output.renderOutput(dataTable, element);\n",
              "          const docLink = document.createElement('div');\n",
              "          docLink.innerHTML = docLinkHtml;\n",
              "          element.appendChild(docLink);\n",
              "        }\n",
              "      </script>\n",
              "    </div>\n",
              "  </div>\n",
              "  "
            ]
          },
          "metadata": {},
          "execution_count": 9
        }
      ]
    },
    {
      "cell_type": "markdown",
      "id": "a6f7f4cb",
      "metadata": {
        "id": "a6f7f4cb"
      },
      "source": [
        "## Part 1.5 Counting Classes (2 Points). \n",
        "\n",
        "Look back in the PCA/ICA and see how we used `groupby` to find the number of Iris species and determine their statistical properties. Use the same methodology on the `zoo` DataFrame to find out how many of each there are (**not how many classes but e.g. how many mammals, fish, ...**). Use the `class.csv` to check your answer. "
      ]
    },
    {
      "cell_type": "markdown",
      "id": "7589ad90-4098-4e6f-9b74-bd8ac46c9031",
      "metadata": {
        "id": "7589ad90-4098-4e6f-9b74-bd8ac46c9031"
      },
      "source": [
        "<font size=6 color=\"#009600\">&#9998;</font> *Write your answer here*"
      ]
    },
    {
      "cell_type": "markdown",
      "id": "51aa0418-9da6-445b-bc97-1e3e19365ce6",
      "metadata": {
        "tags": [],
        "id": "51aa0418-9da6-445b-bc97-1e3e19365ce6"
      },
      "source": [
        "## 1.6 Visualizing the Data (10 points)\n",
        "\n",
        "&#9989; Similar to the iris dataset, where we classified iris flowers into specific species, we want to classify animal properties into animal classes. Let's say we want to tell fish and mammals apart. Make two scatter plots to cleanly separate the classes using attributes from your `zoo` dataset. Use different colors and different symbols for fish and mammals."
      ]
    },
    {
      "cell_type": "code",
      "execution_count": 10,
      "id": "0dca0060-6925-409e-948f-619544bd7b27",
      "metadata": {
        "id": "0dca0060-6925-409e-948f-619544bd7b27"
      },
      "outputs": [],
      "source": [
        "#Write your code here"
      ]
    },
    {
      "cell_type": "markdown",
      "id": "85771b78",
      "metadata": {
        "id": "85771b78"
      },
      "source": [
        "## 1.7 Reflecting on the Different Types of Data (2 points)\n",
        "\n",
        "Look at the scatter plots you made to classify fish and mammals in the previous part and compare it to the scatter plots we made to separate the iris dataset. What differences do you notice?"
      ]
    },
    {
      "cell_type": "markdown",
      "id": "179370da",
      "metadata": {
        "id": "179370da"
      },
      "source": [
        "<font size=6 color=\"#009600\">&#9998;</font> *Write your answer here.*"
      ]
    },
    {
      "cell_type": "markdown",
      "id": "ae5da633",
      "metadata": {
        "id": "ae5da633"
      },
      "source": [
        "---\n",
        "### &#128721; STOP (3 Point)\n",
        "**Pause to commit your changes to your Git repository!**\n",
        "\n",
        "Take a moment to save your notebook, commit the changes to your Git repository with a meaningful commit message.\n",
        "\n",
        "---"
      ]
    },
    {
      "cell_type": "markdown",
      "id": "57909bf7",
      "metadata": {
        "id": "57909bf7"
      },
      "source": [
        "# Part 2 Extending classes (41 Points)\n",
        "\n",
        "For the next set of question, We will work once more with the `Animal` and `Zoo` class. Below is a version of the `Animal` class that we will build off of.\n",
        "\n"
      ]
    },
    {
      "cell_type": "code",
      "execution_count": 11,
      "id": "bd11737f",
      "metadata": {
        "id": "bd11737f"
      },
      "outputs": [],
      "source": [
        "#Example class to build off of\n",
        "\n",
        "class Animal(object):\n",
        "    \"\"\"\n",
        "    This is an Animal class, used to store information about animals in the Zoo.\n",
        "    \"\"\"\n",
        "\n",
        "    def __init__(self, kind, required_area=0):\n",
        "        \"\"\" Initialize the Animal object.\n",
        "        Inputs are\n",
        "        kind: the type of animal (string)\n",
        "        required_area: square meters (int)\n",
        "        \"\"\"\n",
        "        self.kind = kind\n",
        "        self.required_area = required_area\n",
        "\n",
        "\n",
        "    def set_required_area(self, area):\n",
        "        \"\"\" Set area required for a single animal. \"\"\"\n",
        "        self.required_area = area\n",
        "\n",
        "    def set_kind(self, kind):\n",
        "        \"\"\" Set the kind of the animal \"\"\"\n",
        "        self.kind = kind\n",
        "\n",
        "    def get_kind(self):\n",
        "        \"\"\" Return animal's kind. \"\"\"\n",
        "        return self.kind\n",
        "\n",
        "    def get_required_area(self):\n",
        "        \"\"\" Return area required for a single animal. \"\"\"\n",
        "        return self.required_area"
      ]
    },
    {
      "cell_type": "markdown",
      "id": "f259f1c0",
      "metadata": {
        "id": "f259f1c0"
      },
      "source": [
        "## Part 2.1 Extending the `Animal` Class (18 Points)\n",
        "\n",
        "### Part 2.1.1 Building a Test Animal (3 Points)\n",
        "\n",
        "Before we start making changes to our classes, let's start by creating some test/example instances of them. In the cell below, pick your favorite animal and a fun name and create a new `Animal` object.\n"
      ]
    },
    {
      "cell_type": "code",
      "execution_count": 12,
      "id": "618896a0",
      "metadata": {
        "id": "618896a0"
      },
      "outputs": [],
      "source": [
        "#Write your code here\n",
        "# Test code\n",
        "test_ani = Animal(\"test\", 150)\n",
        "\n",
        "assert(type(test_ani) is Animal)\n",
        "assert(test_ani.get_kind() == \"test\")\n",
        "assert(test_ani.get_required_area() == 150)\n",
        "\n",
        "\n",
        "test_ani.set_kind(\"test2\")\n",
        "test_ani.set_required_area(-500)\n",
        "assert(test_ani.get_kind() != \"test\")\n",
        "assert(test_ani.get_required_area() != 150)\n",
        "assert(test_ani.get_kind() == \"test2\")\n",
        "assert(test_ani.get_required_area() == -500)\n",
        "\n",
        "\n"
      ]
    },
    {
      "cell_type": "markdown",
      "id": "a6efa1b1",
      "metadata": {
        "id": "a6efa1b1"
      },
      "source": [
        "### Part 2.1.2 Adding in Additional Information (5 Points)\n",
        "\n",
        "\n",
        "Before we can begin building our zoo we need more information about the needs of our animals. Specifically, we need to think about the different habitats the animals live in. We now have that information from your dataframe. For our zoo, we will be building aquatic habitats, grassland habitats, and aviaries. Ultimately, we're going to need to know how big the different habitats will need to be.\n",
        "\n",
        "&#9989; Extend the `Animal` class given above to store information to incorporate habitat information in the cell below."
      ]
    },
    {
      "cell_type": "code",
      "execution_count": 13,
      "id": "8f097f6a",
      "metadata": {
        "id": "8f097f6a"
      },
      "outputs": [],
      "source": [
        "#Write out your new Animal class here\n",
        "\n",
        "#Example class to build off of\n",
        "\n",
        "class Animal(object):\n",
        "    \"\"\"\n",
        "    This is an Animal class, used to store information about animals in the Zoo.\n",
        "    \"\"\"\n",
        "\n",
        "    def __init__(self, kind, habitat,  required_area=0):\n",
        "        \"\"\" Initialize the Animal object.\n",
        "        Inputs are\n",
        "        kind: the type of animal (string)\n",
        "        required_area: square meters (int)\n",
        "        \"\"\"\n",
        "        self.kind = kind\n",
        "        self.habitat = habitat\n",
        "        self.required_area = required_area\n",
        "\n",
        "        if self.habitat == \"aquatic\":\n",
        "            self.required_area = 10\n",
        "        elif self.habitat == \"aviary\":\n",
        "            self.required_area = 20\n",
        "        elif self.habitat == \"grassland\":\n",
        "            self.required_area = 30\n",
        "\n",
        "\n",
        "\n",
        "\n",
        "    def set_required_area(self, area):\n",
        "        \"\"\" Set area required for a single animal. \"\"\"\n",
        "        self.required_area = area\n",
        "\n",
        "    def set_kind(self, kind):\n",
        "        \"\"\" Set the kind of the animal \"\"\"\n",
        "        self.kind = kind\n",
        "\n",
        "    def set_habitat(self, habitat, resetArea = False):\n",
        "        \"\"\" Sets the habitat and required area \"\"\"\n",
        "        self.habitat = habitat\n",
        "\n",
        "        if resetArea: return\n",
        "        \n",
        "        if self.habitat == \"aquatic\":\n",
        "            self.required_area = 10\n",
        "        elif self.habitat == \"aviary\":\n",
        "            self.required_area = 20\n",
        "        elif self.habitat == \"grassland\":\n",
        "            self.required_area = 30\n",
        "\n",
        "    def get_kind(self):\n",
        "        \"\"\" Return animal's kind. \"\"\"\n",
        "        return self.kind\n",
        "\n",
        "    def get_required_area(self):\n",
        "        \"\"\" Return area required for a single animal. \"\"\"\n",
        "        return self.required_area\n",
        "\n",
        "    def get_habitat(self):\n",
        "        \"\"\" Returns the habitat of the animal\"\"\"\n",
        "        return self.habitat\n"
      ]
    },
    {
      "cell_type": "markdown",
      "id": "655471f0",
      "metadata": {
        "id": "655471f0"
      },
      "source": [
        "### Part 2.1.3 Calculating Required Area (10 Points)\n",
        "\n",
        "Now that we have our habitat information, we can use that to calculate the required area. First, we're going to assume that animals living in different habitats require the following amount of area:\n",
        "\n",
        " * aquatic : 10 $m^2$ per animal\n",
        " * aviary : 20 $m^2$ per animal\n",
        " * grassland : 30 $m^2$ per animal\n",
        "\n",
        "\n",
        "\n",
        "&#9989; In the `__init__` method, write a piece of code that uses the information above to determine the area required for the animal and set the `required_area` attribute."
      ]
    },
    {
      "cell_type": "code",
      "execution_count": 16,
      "id": "21a47a7f",
      "metadata": {
        "id": "21a47a7f"
      },
      "outputs": [],
      "source": [
        "#Write out your new Animal class here\n",
        "\n",
        "test_ani = Animal(\"test\", \"aquatic\", 150)\n",
        "\n",
        "assert(type(test_ani) is Animal)\n",
        "assert(test_ani.get_habitat() == \"aquatic\")\n",
        "assert(test_ani.get_required_area() == 10)\n",
        "\n",
        "test_ani.set_habitat('aviary')\n",
        "assert(test_ani.get_habitat() == \"aviary\")\n",
        "assert(test_ani.get_required_area() == 20)\n",
        "\n",
        "\n"
      ]
    },
    {
      "cell_type": "markdown",
      "id": "9b7fe0e5",
      "metadata": {
        "id": "9b7fe0e5"
      },
      "source": [
        "## Part 2.2: Extending the `Zoo` Class (23 Points)\n",
        "\n",
        "Now we want to extend our `Zoo` class, so we can determine the total amount of area we'll need for each habitat. We'll do this by building off of our original `zoo` class given below."
      ]
    },
    {
      "cell_type": "code",
      "execution_count": 19,
      "id": "a2fd9251-92e6-4746-9d3f-0f4573e5ee72",
      "metadata": {
        "id": "a2fd9251-92e6-4746-9d3f-0f4573e5ee72"
      },
      "outputs": [],
      "source": [
        "#Example class to build off of\n",
        "\n",
        "class Zoo:\n",
        "    \"\"\"\n",
        "        Class for Zoo object.\n",
        "    \"\"\"\n",
        "    def __init__(self, name):\n",
        "        \"\"\" Initialize the Animal object.\n",
        "        Inputs are\n",
        "        name: name of the zoo (string)\n",
        "        animals: collection (dictionary) of animal objects\n",
        "        \"\"\"\n",
        "        self.name = name\n",
        "        self.animals = {}\n",
        "\n",
        "    def add_animal(self, animal):\n",
        "        \"\"\" Adds an animal to the zoo. \"\"\"\n",
        "        # we use animal's name as a key in the dictionary\n",
        "        kind = animal.get_kind()\n",
        "        self.animals[kind] = animal\n",
        "\n",
        "    def add(self, animal):\n",
        "        \"\"\" Shorter name of function to add animals to the Zoo. \"\"\"\n",
        "        self.add_animal(animal)\n",
        "\n",
        "    def get_animals(self):\n",
        "        \"\"\" Return all animals in the zoo.\"\"\"\n",
        "        return self.animals\n",
        "\n",
        "    def remove(self, name):\n",
        "        \"\"\" Remove animal from the Zoo for given name. If the name does not exist, error is printed. \"\"\"\n",
        "        if name in self.animals:\n",
        "            # yes, animal with given name is in the Zoo\n",
        "            del self.animals[name]\n",
        "        else:\n",
        "            print(\"Animal with given name is not in\", self.name, \"Zoo.\")\n",
        "\n",
        "    def get_animal_kinds(self, sort=False):\n",
        "        \"\"\" Return animal kinds in the Zoo. Return sorted kinds if parameters sorted==True\"\"\"\n",
        "        kinds = []\n",
        "        \n",
        "        for key in self.animals.keys():\n",
        "            # get animal kinds and store them into list\n",
        "            kinds.append(self.animals[key].get_kind())\n",
        "\n",
        "        if sort == True:\n",
        "            # we have to return sorted kinds; so sort the kinds\n",
        "            kinds = sorted(kinds)\n",
        "\n",
        "        return kinds\n",
        "\n",
        "    def number_animals(self):\n",
        "        \"\"\" Return number of animals in the Zoo.\"\"\"\n",
        "        return len(self.animals)\n",
        "\n",
        "    def total_area(self):\n",
        "        \"\"\" Return the total Zoo area to host all animals defined in the object. \"\"\"\n",
        "        area = 0\n",
        "\n",
        "        for key in self.animals:\n",
        "            # get area for all animals in the zoo\n",
        "            area += self.animals[key].get_required_area()\n",
        "\n",
        "        return area\n"
      ]
    },
    {
      "cell_type": "markdown",
      "id": "d8b80d82",
      "metadata": {
        "id": "d8b80d82"
      },
      "source": [
        "\n",
        "### 2.2.1 Building an Example `Zoo` (3 Points)\n",
        "\n",
        "\n",
        "\n",
        "&#9989; To start, build an example `zoo` object. Add the example `animal` object you made in 2.1.1 to the zoo."
      ]
    },
    {
      "cell_type": "code",
      "execution_count": 20,
      "id": "43484736",
      "metadata": {
        "id": "43484736"
      },
      "outputs": [],
      "source": [
        "#Write your code for constructing an example zoo here\n",
        "\n",
        "temp_zoo = Zoo(\"Central Park Zoo\")\n",
        "\n",
        "Alex = Animal('lion', 'grassland' )\n",
        "Marty = Animal('zebra', 'grassland')\n",
        "Private = Animal('penguin', 'aquatic')\n",
        "temp_zoo.add_animal(Alex)\n",
        "temp_zoo.add_animal(Marty)\n",
        "temp_zoo.add_animal(Private)"
      ]
    },
    {
      "cell_type": "markdown",
      "id": "842c4128",
      "metadata": {
        "id": "842c4128"
      },
      "source": [
        "### 2.2.2 Getting Total Required Area (15 Points)\n",
        "\n",
        "&#9989; Extend your Zoo class with functionality to calculate the required areas for each type of habitat. There are several ways to do this. Here are the requirements:\n",
        "\n",
        "1. You should be able to (easily) access the total required area for each habitat at any time using the `Zoo` object. (This can be best achieved by using class attributes.)\n",
        "2. You should be able to easily recalculate the total required area for each habitat if/when new animals are added to the zoo.\n",
        "\n",
        "Finally, you should be able to print off the required area for each habitat. E.g., \n",
        "\n",
        "- Grassland: 1200 Square Meters\n",
        "- Aquatic: 600 Square Meters\n",
        "- Aviary: 300 Square Meters\n",
        "\n",
        "You can decide whether to do this inside of the `Zoo` class or with another piece of code. "
      ]
    },
    {
      "cell_type": "code",
      "execution_count": 21,
      "id": "05391492",
      "metadata": {
        "id": "05391492"
      },
      "outputs": [],
      "source": [
        "#Write out your new Zoo class here\n",
        "\n",
        "#Example class to build off of\n",
        "\n",
        "class Zoo:\n",
        "    \"\"\"\n",
        "        Class for Zoo object.\n",
        "    \"\"\"\n",
        "    def __init__(self, name):\n",
        "        \"\"\" Initialize the Animal object.\n",
        "        Inputs are\n",
        "        name: name of the zoo (string)\n",
        "        animals: collection (dictionary) of animal objects\n",
        "        \"\"\"\n",
        "        self.name = name\n",
        "        self.animals = {}\n",
        "\n",
        "        self.Req_area = {}\n",
        "\n",
        "    def add_animal(self, animal):\n",
        "        \"\"\" Adds an animal to the zoo. \"\"\"\n",
        "        # we use animal's name as a key in the dictionary\n",
        "        kind = animal.get_kind()\n",
        "        self.animals[kind] = animal\n",
        "\n",
        "    def add(self, animal):\n",
        "        \"\"\" Shorter name of function to add animals to the Zoo. \"\"\"\n",
        "        self.add_animal(animal)\n",
        "\n",
        "    def get_animals(self):\n",
        "        \"\"\" Return all animals in the zoo.\"\"\"\n",
        "        return self.animals\n",
        "\n",
        "    def remove(self, name):\n",
        "        \"\"\" Remove animal from the Zoo for given name. If the name does not exist, error is printed. \"\"\"\n",
        "        if name in self.animals:\n",
        "            # yes, animal with given name is in the Zoo\n",
        "            del self.animals[name]\n",
        "        else:\n",
        "            print(\"Animal with given name is not in\", self.name, \"Zoo.\")\n",
        "\n",
        "    def get_animal_kinds(self, sort=False):\n",
        "        \"\"\" Return animal kinds in the Zoo. Return sorted kinds if parameters sorted==True\"\"\"\n",
        "        kinds = []\n",
        "        \n",
        "        for key in self.animals.keys():\n",
        "            # get animal kinds and store them into list\n",
        "            kinds.append(self.animals[key].get_kind())\n",
        "\n",
        "        if sort == True:\n",
        "            # we have to return sorted kinds; so sort the kinds\n",
        "            kinds = sorted(kinds)\n",
        "\n",
        "        return kinds\n",
        "\n",
        "    def get_total_required_area(self):\n",
        "        \n",
        "        self.Req_area = {}\n",
        "\n",
        "        for animal_temp in self.animals.values():\n",
        "            hab = animal_temp.get_habitat()\n",
        "            self.Req_area[hab] = self.Req_area.get(hab, 0) + animal_temp.get_required_area()\n",
        "\n",
        "\n",
        "        return self.Req_area\n",
        "\n",
        "    def print_total_req_area(self):\n",
        "        temp = self.get_total_required_area()\n",
        "\n",
        "        for key, val in temp.items():\n",
        "            print(key, \": \", val)\n",
        "\n",
        "    def number_animals(self):\n",
        "        \"\"\" Return number of animals in the Zoo.\"\"\"\n",
        "        return len(self.animals)\n",
        "\n",
        "    def total_area(self):\n",
        "        \"\"\" Return the total Zoo area to host all animals defined in the object. \"\"\"\n",
        "        area = 0\n",
        "\n",
        "        for key in self.animals:\n",
        "            # get area for all animals in the zoo\n",
        "            area += self.animals[key].get_required_area()\n",
        "\n",
        "        return area\n"
      ]
    },
    {
      "cell_type": "markdown",
      "id": "2b80858d",
      "metadata": {
        "id": "2b80858d"
      },
      "source": [
        "### 2.2.3 Testing your New `Zoo` class (5 Points)\n",
        "\n",
        "&#9989; Test out your new `Zoo` class by constructing three new `Animal` objects--one for each habitat--and then adding them to a new `Zoo` object. Test out the two methods you added in the previous part to ensure that they work correctly."
      ]
    },
    {
      "cell_type": "code",
      "execution_count": 31,
      "id": "9d3b477f",
      "metadata": {
        "id": "9d3b477f",
        "colab": {
          "base_uri": "https://localhost:8080/"
        },
        "outputId": "094a08f5-faa6-400b-a8e0-b4ac3a4b869d"
      },
      "outputs": [
        {
          "output_type": "stream",
          "name": "stdout",
          "text": [
            "grassland :  60\n",
            "aquatic :  10\n",
            "\n",
            "grassland :  60\n",
            "aquatic :  10\n",
            "aviary :  20\n"
          ]
        }
      ],
      "source": [
        "#Write your code for testing the Zoo class here\n",
        "\n",
        "temp_zoo = Zoo(\"Central Park Zoo\")\n",
        "\n",
        "Alex = Animal('lion', 'grassland' )\n",
        "Marty = Animal('zebra', 'grassland')\n",
        "Private = Animal('penguin', 'aquatic')\n",
        "temp_zoo.add_animal(Alex)\n",
        "temp_zoo.add_animal(Marty)\n",
        "temp_zoo.add_animal(Private)\n",
        "\n",
        "temp_zoo.print_total_req_area()\n",
        "print()\n",
        "Dode = Animal('bird', 'aviary')\n",
        "temp_zoo.add_animal(Dode)\n",
        "temp_zoo.print_total_req_area()\n"
      ]
    },
    {
      "cell_type": "markdown",
      "id": "43baf4cf",
      "metadata": {
        "id": "43baf4cf"
      },
      "source": [
        "---\n",
        "### &#128721; STOP (3 Point)\n",
        "**Pause to commit your changes to your Git repository!**\n",
        "\n",
        "Take a moment to save your notebook, commit the changes to your Git repository. Please make a meaningful commit message\n",
        "\n",
        "---"
      ]
    },
    {
      "cell_type": "markdown",
      "id": "56173ada",
      "metadata": {
        "id": "56173ada"
      },
      "source": [
        "# Part 3: Filling your Zoo (20 Points)\n",
        "\n",
        "We now have a working zoo that understands how habitats work. We want to fill it with the animals from `zoo.csv` in the `pandas` DataFrame. First we are learning how to loop over individual rows of a `pandas` DataFrame and then we are adding this to the zoo. "
      ]
    },
    {
      "cell_type": "markdown",
      "id": "6833a582",
      "metadata": {
        "id": "6833a582"
      },
      "source": [
        "## Part 3.1 Sorting Animals (5 points)\n",
        "\n",
        "&#9989; We are demonstrating below how we loop over individual rows of a `pandas` `DataFrame` and access the properties of an animal for each row. I'm keeping in mind that the grassland should not have airborne creatures. Please add an if-statement for animals going to the aquatic habitat and the aviary habitat. "
      ]
    },
    {
      "cell_type": "code",
      "execution_count": 32,
      "id": "230b55cc",
      "metadata": {
        "id": "230b55cc",
        "colab": {
          "base_uri": "https://localhost:8080/"
        },
        "outputId": "b074c196-3ec0-4f41-ca17-4522bd137ab8"
      },
      "outputs": [
        {
          "output_type": "stream",
          "name": "stdout",
          "text": [
            "girl needs to go to the grassland habitat \n",
            "lion needs to go to the grassland habitat \n",
            "mongoose needs to go to the grassland habitat \n",
            "pussycat needs to go to the grassland habitat \n",
            "cheetah needs to go to the grassland habitat \n"
          ]
        }
      ],
      "source": [
        "#Extend the following code for all habitat types\n",
        "\n",
        "# to limit the output you can write zoo_df.sample(20).iterrows() to give you a sample of 20 animals\n",
        "for i, animal_row in zoo_df.sample(5).iterrows():\n",
        "    if (animal_row.legs > 0) and (animal_row.airborne == 0) and (animal_row.aquatic == 0):\n",
        "        print(\"{0} needs to go to the grassland habitat \".format(animal_row['animal_name']))\n",
        "    elif (animal_row.airborne == 0) and (animal_row.aquatic == 1):\n",
        "        print(\"{0} needs to go to the aquatic habitat \".format(animal_row['animal_name']))\n",
        "    elif (animal_row.airborne == 1):\n",
        "        print(\"{0} needs to go to the arial habitat \".format(animal_row['animal_name']))\n",
        "    else:\n",
        "        print(\"{0} needs to go to the unclassified habitat \".format(animal_row['animal_name']))\n"
      ]
    },
    {
      "cell_type": "markdown",
      "id": "e66b1d0c",
      "metadata": {
        "id": "e66b1d0c"
      },
      "source": [
        "## Part 3.2 Making your Zoo (10 points)\n",
        "\n",
        "&#9989; Now that we have learned how to loop over a dataframe, we want to add all the animals to the zoo. Use the for-loop and instantiate an animal object (using the new and improved animal object) and add it to the zoo. "
      ]
    },
    {
      "cell_type": "code",
      "execution_count": 34,
      "id": "6f199979",
      "metadata": {
        "id": "6f199979",
        "colab": {
          "base_uri": "https://localhost:8080/"
        },
        "outputId": "423686ba-6e8c-41e8-a222-12c4eb987507"
      },
      "outputs": [
        {
          "output_type": "stream",
          "name": "stdout",
          "text": [
            "grassland :  1230\n",
            "aquatic :  300\n",
            "aviary :  480\n",
            "unclassified :  150\n"
          ]
        }
      ],
      "source": [
        "#Write your code for constructing a complete zoo here\n",
        "\n",
        "zooooo = Zoo(\"New ZOo\")\n",
        "\n",
        "for i, animal_row in zoo_df.iterrows():\n",
        "    if (animal_row.legs > 0) and (animal_row.airborne == 0) and (animal_row.aquatic == 0):\n",
        "        # print(\"{0} needs to go to the grassland habitat \".format(animal_row['animal_name']))\n",
        "        kind = animal_row['animal_name']\n",
        "        zooooo.add(Animal(kind, 'grassland'))\n",
        "    elif (animal_row.airborne == 0) and (animal_row.aquatic == 1):\n",
        "        # print(\"{0} needs to go to the aquatic habitat \".format(animal_row['animal_name']))\n",
        "        kind = animal_row['animal_name']\n",
        "        zooooo.add(Animal(kind, 'aquatic'))\n",
        "    elif (animal_row.airborne == 1):\n",
        "        # print(\"{0} needs to go to the aviary habitat \".format(animal_row['animal_name']))\n",
        "        kind = animal_row['animal_name']\n",
        "        zooooo.add(Animal(kind, 'aviary'))\n",
        "    else:\n",
        "        # print(\"{0} needs to go to the unclassified habitat \".format(animal_row['animal_name']))\n",
        "        kind = animal_row['animal_name']\n",
        "        zooooo.add(Animal(kind, 'unclassified', 30))\n",
        "\n",
        "zooooo.print_total_req_area()\n"
      ]
    },
    {
      "cell_type": "markdown",
      "id": "8aa97cac",
      "metadata": {
        "id": "8aa97cac"
      },
      "source": [
        "## 3.3 Showing off your Zoo (5 Points)\n",
        "\n",
        "&#9989; Now that you have built your `Zoo` object with all of its `Animal`s, it's time to show it off. In the cell below, calculate and print the total area required for each habitat. "
      ]
    },
    {
      "cell_type": "code",
      "execution_count": 35,
      "id": "47a8495f",
      "metadata": {
        "id": "47a8495f",
        "colab": {
          "base_uri": "https://localhost:8080/"
        },
        "outputId": "3c187406-b95d-4660-e074-9c7c8a0b6d81"
      },
      "outputs": [
        {
          "output_type": "stream",
          "name": "stdout",
          "text": [
            "grassland :  1230\n",
            "aquatic :  300\n",
            "aviary :  480\n",
            "unclassified :  150\n"
          ]
        }
      ],
      "source": [
        "#Write your code for showing off your zoo object\n",
        "zooooo.print_total_req_area()"
      ]
    },
    {
      "cell_type": "markdown",
      "id": "8a5439a2",
      "metadata": {
        "id": "8a5439a2"
      },
      "source": [
        "---\n",
        "\n",
        "### &#128721; STOP (3 Point)\n",
        "**Pause to commit your changes to your Git repository!**\n",
        "\n",
        "Take a moment to save your notebook, commit the changes to your Git repository with a meaningful commit message.\n",
        "\n",
        "---"
      ]
    },
    {
      "cell_type": "markdown",
      "id": "8f271f51-e4d3-4481-916a-3965d9c96f33",
      "metadata": {
        "tags": [],
        "id": "8f271f51-e4d3-4481-916a-3965d9c96f33"
      },
      "source": [
        "### Congratulations, you're done!"
      ]
    },
    {
      "cell_type": "markdown",
      "id": "b2f3c3d8-8f71-4b0e-9d7c-d52e66bf24cc",
      "metadata": {
        "id": "b2f3c3d8-8f71-4b0e-9d7c-d52e66bf24cc"
      },
      "source": [
        "&#169; Copyright 2022,  Department of Computational Mathematics, Science and Engineering at Michigan State University"
      ]
    }
  ],
  "metadata": {
    "kernelspec": {
      "display_name": "base",
      "language": "python",
      "name": "python3"
    },
    "language_info": {
      "codemirror_mode": {
        "name": "ipython",
        "version": 3
      },
      "file_extension": ".py",
      "mimetype": "text/x-python",
      "name": "python",
      "nbconvert_exporter": "python",
      "pygments_lexer": "ipython3",
      "version": "3.9.12"
    },
    "vscode": {
      "interpreter": {
        "hash": "cf0c681cb49c9db9dd0920756d994a7efb6a444278d5ca447e660767d56738cf"
      }
    },
    "colab": {
      "provenance": [],
      "include_colab_link": true
    }
  },
  "nbformat": 4,
  "nbformat_minor": 5
}