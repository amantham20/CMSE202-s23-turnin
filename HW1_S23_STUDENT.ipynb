{
  "cells": [
    {
      "cell_type": "markdown",
      "metadata": {
        "id": "view-in-github",
        "colab_type": "text"
      },
      "source": [
        "<a href=\"https://colab.research.google.com/github/amantham20/CMSE202-s23-turnin/blob/master/HW1_S23_STUDENT.ipynb\" target=\"_parent\"><img src=\"https://colab.research.google.com/assets/colab-badge.svg\" alt=\"Open In Colab\"/></a>"
      ]
    },
    {
      "cell_type": "markdown",
      "metadata": {
        "id": "oaGzBYqYZa9f"
      },
      "source": [
        "# Homework Assignment 1 (Individual)\n",
        "## Git practice, debugging practice, and new Python packages"
      ]
    },
    {
      "cell_type": "markdown",
      "metadata": {
        "id": "CPPmlZrQZcAQ"
      },
      "source": [
        "### <p style=\"text-align: right;\"> &#9989; Aman Dhruva Thamminana</p>\n",
        "### <p style=\"text-align: right;\"> &#9989; `amantham20` https://github.com/amantham20</p>"
      ]
    },
    {
      "cell_type": "markdown",
      "metadata": {
        "id": "iQj_paJ9ZdmJ"
      },
      "source": [
        "\n",
        "### Goals for this homework assignment\n",
        "By the end of this assignment, you should be able will:\n",
        "* Demonstrate the purpose and utility of Git and demonstrate a workflow in practice.\n",
        "* Use Git to create a repository, track changes to the files within the repository, and push those changes to a remote repository.\n",
        "* Articulate the most common debugging strategies\n",
        "* Debug some basic Python code.\n",
        "* Read documentation and example code to use a new Python package\n",
        "\n",
        "Work through the following assignment, making sure to follow all of the directions and answer all of the questions.\n",
        "\n",
        "There are **100 points** possible on this assignment. Point values for each part are included in the section headers and question prompts.\n",
        "\n",
        "**This assignment is due roughly two weeks from now at 11:59 pm on Friday, February 3rd.** It should be uploaded into the \"Homework Assignments\" submission folder for Homework #1 on D2L.  Submission instructions can be found at the end of the notebook. "
      ]
    },
    {
      "cell_type": "markdown",
      "metadata": {
        "id": "-lMRNRFDZBlh"
      },
      "source": [
        "# Part 0: Office Hours and Academic Integrity (10 points)\n",
        "\n",
        "## Academic integrity statement (2 Points)\n",
        "\n",
        "In the markdown cell below, paste your personal academic integrity statement. By including this statement, you are confirming that you are submitting this as your own work and not that of someone else.\n"
      ]
    },
    {
      "cell_type": "markdown",
      "metadata": {
        "id": "dyaVnz36ZDhX"
      },
      "source": [
        "<font size=6 color=\"#009600\">&#9998;</font> I, Aman Dhruva Thamminana, commit to uphold the values and principles of ethics and honesty to highest of standards and foster the same with my peers and community. I will uphold these standards beyond my time as a student at Michigan State University, continuing the endeavor to build personal integrity in all that I do."
      ]
    },
    {
      "cell_type": "markdown",
      "metadata": {
        "id": "FpV1F8X5ZGyn"
      },
      "source": [
        "## Going to Office Hours (8 Points)\n",
        "\n",
        "### Why are we doing this?\n",
        "We want to make sure that everyone knows how to access the resources\n",
        "available to you. One of the best resources you have at your disposal is office hours.\n",
        "\n",
        "### What will you do?\n",
        "(At minimum) Go to one office hour session ​(it doesn’t matter which one you go to). Come with one question that you would like to talk about. It can be big or small. Ask your question. All of the instructors for CMSE 202 (section leads, TAs, and LAs) will be adding to a running list of folks that we see during office hours; as long as your name appears on the list, you’ll get credit for this part of Homework 1.\n",
        "\n",
        "**NOTE:** The day when the homework is due (**Friday, February 3rd**) will be the busiest time for folks to go to office hours. You are **STRONGLY** encouraged to go to office hours before Friday to get credit for this part of this assignment. (You should still feel free to go to office hours on Friday for help, though!)\n",
        "\n",
        "You can find the office hours calendar on the [course website](https://cmse.msu.edu/cmse202)."
      ]
    },
    {
      "cell_type": "markdown",
      "metadata": {
        "id": "Ycc8us9qZRbQ"
      },
      "source": [
        "**&#9989; **Question 0.1 (8 points)****\n",
        "\n",
        "What is your fav color?"
      ]
    },
    {
      "cell_type": "markdown",
      "metadata": {
        "id": "QHtvFWdQZSkF"
      },
      "source": [
        "<font size=6 color=\"#009600\">&#9998;</font> Blue"
      ]
    },
    {
      "cell_type": "markdown",
      "metadata": {
        "id": "Ouu4YtGnRm_2"
      },
      "source": [
        "# Part 1: Designing a Workflow with Git (30 points total)\n",
        "\n",
        "You have spent some time in class learning about how/why we use git in CMSE 202 and beyond, and you will be expected to use it throughout the semester.\n",
        "\n",
        "## 1.1 Propose a Software Development Workflow (10 points)\n",
        "\n",
        "You are working collaboratively with a team on a research project that includes developing code as well as writing a paper to communicate your results, and you need to ensure that all work is managed and tracked with git. Since you are learning about git in your class, your groupmates have asked you to propose a software development workflow for this project. Here, workflow is defined as the process by which the project is managed and developed.\n",
        "\n",
        "Your workflow must (at least) handle the following:\n",
        "1. What role (or roles) will each person have?\n",
        "2. How will changes be made/tracked?\n",
        "3. What are your requirements for commit messages?\n",
        "4. How do you expect people to work on their portions of the projects (using branches/merges)?\n",
        "\n",
        "In the cell below, write down the guidelines for your proposed workflow, making sure to account for all of the items mentioned above.\n"
      ]
    },
    {
      "cell_type": "markdown",
      "metadata": {
        "id": "GFkl_ExSWFv7"
      },
      "source": [
        "<font size=+3>&#9998;</font>\n",
        "\n",
        "1) with git we can have several roles in a github team! one of them being guest, colobrator, etc. we can sub divide the tasks then accordingly\n",
        "\n",
        "2) changes can be commmited creating a histroy tree that we can go back to and make further changes. git log can also give prev history\n",
        "\n",
        "3) commits will have descriptions about changes/added features and other items. One can also go further in the description taking about futer changes and also add co colabroators\n",
        "\n",
        "4) using meraging we can have a people working on different parts of the projects and then coomit their changes to the global code and in this case the global change will be added "
      ]
    },
    {
      "cell_type": "markdown",
      "metadata": {
        "id": "Jvto9V5XWBHu"
      },
      "source": [
        "\n",
        "\n",
        "\n",
        "## 1.2 Testing Your Workflow (10 points)\n",
        "\n",
        "In the cell(s) below, demonstrate that your workflow works by performing (or answering) the following tests:\n",
        "\n",
        "1. A new person is joining your team, but they have never coded before and are concerned about making changes that might break your code. According to your workflow, what should their role be, and how should they make changes to the code?\n",
        "2. Using vi (or your favorite text editor), create a file called paper_draft.txt. Following your workflow, make and commit changes to that file. Copy and paste any command line interface commands you use in the cell below.\n",
        "\n",
        "\n",
        "\n",
        "\n"
      ]
    },
    {
      "cell_type": "markdown",
      "metadata": {
        "id": "oOFbq1cLZZWR"
      },
      "source": [
        "<font size=+3>&#9998;</font>\n",
        "\n",
        "1) STRANGER DANGER MODE: we can have them commit to a fork and after verifiting that this works we can have them create a merge request.\n",
        "\n",
        "2) \n",
        "\n",
        "*   `touch paper_draft.txt`\n",
        "*   `vim paper_draft.txt`\n",
        "*   `git pull`\n",
        "*   `git add .`\n",
        "*   `git commit -m \"first commit added new file`\n",
        "*   `git push`\n",
        "\n",
        "\n",
        "\n",
        "\n",
        "\n",
        "\n",
        "\n"
      ]
    },
    {
      "cell_type": "code",
      "execution_count": null,
      "metadata": {
        "id": "Cyo2eBLHZeWW"
      },
      "outputs": [],
      "source": [
        "# put any code here (feel free to add additional cells)"
      ]
    },
    {
      "cell_type": "markdown",
      "metadata": {
        "id": "ZRnZNfSsXRIv"
      },
      "source": [
        "## 1.3 Reflecting (10 points)\n",
        "\n",
        "Answer the following questions in the cell below about your workflow:\n",
        "\n",
        "1. What challenges/bugs did you run into when testing your workflow? How might you design for them in the future?\n",
        "2. What worked well with your workflow?"
      ]
    },
    {
      "cell_type": "code",
      "source": [],
      "metadata": {
        "id": "94770IE-aBjs"
      },
      "execution_count": null,
      "outputs": []
    },
    {
      "cell_type": "markdown",
      "metadata": {
        "id": "Lr1LmKb9aSdm"
      },
      "source": [
        "<font size=+3>&#9998;</font> \n",
        "\n",
        "1) Since I had some prev commits i had to use git pull to ensure that the remote and local are synced.  always use git pull first before pushing\n",
        "\n",
        "2) It worked well. It made sence to work on the main when working with a bigger group of people it might make sense to work in branches"
      ]
    },
    {
      "cell_type": "markdown",
      "metadata": {
        "id": "cImTyMz-W_jX"
      },
      "source": [
        "## &#128721; STOP **COMMIT YOUR WORK TO GIT NOW**\n",
        "\n",
        "You should commit early and often, but at least do it after you complete each homework problem. \n",
        "\n",
        "Make sure to use meaningful commit messages that indicate the changes you have made!"
      ]
    },
    {
      "cell_type": "markdown",
      "metadata": {
        "id": "CPTa3YYWYjJG"
      },
      "source": [
        "# Part 2: Debugging Code (30 points total)\n",
        "\n",
        "Bugs are a part of life in writing code. They do not mean you are not making progress at coding. However, you can employ various debugging strategies to help you work through bugs efficiently and confidently.\n",
        "\n",
        "## 2.1 Helping a CMSE 201 Student (10 points)\n",
        "\n",
        "In the cell below, explain debugging to a CMSE 201 student, and describe the process you would recommend they use to debug their code. You must include how you would solve the various types of bugs you can encounter while coding. Remember all of the resources you can use in CMSE 201/202 (particularly Google or other search engines!).\n",
        "\n"
      ]
    },
    {
      "cell_type": "markdown",
      "metadata": {
        "id": "UslFH5ffbX80"
      },
      "source": [
        "<font size=+3>&#9998;</font> Write your debugging process here.\n",
        "\n",
        "I would start by having them run the code and try to understand what their expected output was and what the actual output they expected. If there is a an error then there often is a message i would start by asking them to descibe what the error says. Often googling also help.\n",
        "\n",
        "Programing is like cooking with like the instructions. Only now we have the opportunity of going back in time and changeing theing quickly"
      ]
    },
    {
      "cell_type": "markdown",
      "metadata": {
        "id": "91ouG6LrbYAZ"
      },
      "source": [
        "## 2.2 Working Through Bugs (20 points total)\n",
        "\n",
        "### 2.2.1 A Squirrelly Situation (10 points)\n",
        "\n",
        "Run the code in the cell below. There are (at least) 2 bugs to find and fix! Complete the following questions:\n",
        "\n",
        "1. Apply your debugging process to solve the bug(s) (showing the corrected code).\n",
        "2. Did your process work? If so, continue to the next problem. If not, describe why and indicate any changes you would make to your process.\n",
        "\n",
        "\n"
      ]
    },
    {
      "cell_type": "code",
      "execution_count": 27,
      "metadata": {
        "id": "QDp4prBRg9Wn",
        "colab": {
          "base_uri": "https://localhost:8080/"
        },
        "outputId": "05d4b243-f33d-47dd-c83a-ea2391751430"
      },
      "outputs": [
        {
          "output_type": "stream",
          "name": "stdout",
          "text": [
            "11\n"
          ]
        }
      ],
      "source": [
        "# function that returns a random number of squirrels spotted between 0 and the limit\n",
        "def squirrel_spotting_simulation(limit=15):\n",
        "    import numpy as np\n",
        "    random_squirrels = np.random.randint(limit)\n",
        "    return random_squirrels\n",
        "\n",
        "# initialize number of squirrels\n",
        "squirrel_count = 0\n",
        "# initialize number of time steps\n",
        "t = 0\n",
        "\n",
        "# loop until the observer reaches a maximum of 100 squirrels spotted\n",
        "while squirrel_count <= 100:\n",
        "    # use our function to generate a random number of squirrels spotted\n",
        "    increment = squirrel_spotting_simulation(15)\n",
        "    if (squirrel_count + increment) > 100:\n",
        "        break\n",
        "    # increment the number of time steps by 1\n",
        "    t+=1\n",
        "    # add the number of random squirrels this time step to the total number\n",
        "    squirrel_count+=increment\n",
        "    \n",
        "\n",
        "# print the total number of timesteps it took\n",
        "print(t)"
      ]
    },
    {
      "cell_type": "markdown",
      "metadata": {
        "id": "9DFy6pqkg84W"
      },
      "source": [
        "<font size=+3>&#9998;</font> Put your *answer* here\n",
        "\n",
        "Yes, my debugging process worked"
      ]
    },
    {
      "cell_type": "markdown",
      "metadata": {
        "id": "v3dwJ0nueFJ9"
      },
      "source": [
        "## 2.2.2 Plotting and Scheming\n",
        "\n",
        "Run the code in the cell below, then answer the following questions:\n",
        "set_xlabel vs. label\n",
        "\n",
        "\n",
        "1. Apply your debugging process to solve the bug (showing the corrected code).\n",
        "2. Did your process work? If so, continue to the next problem. If not, describe why and indicate any changes you would make to your process."
      ]
    },
    {
      "cell_type": "code",
      "execution_count": 43,
      "metadata": {
        "id": "KvwNCSVWtEhP",
        "colab": {
          "base_uri": "https://localhost:8080/",
          "height": 279
        },
        "outputId": "586641b6-4d8b-4d85-a5ac-d5aebf40ef46"
      },
      "outputs": [
        {
          "output_type": "display_data",
          "data": {
            "text/plain": [
              "<Figure size 432x288 with 2 Axes>"
            ],
            "image/png": "[encoded data removed]"
          },
          "metadata": {
            "needs_background": "light"
          }
        }
      ],
      "source": [
        "# code to plot two randomly generated data sets (sin and cos) on one plot\n",
        "\n",
        "import matplotlib.pyplot as plt\n",
        "import numpy as np\n",
        "\n",
        "# generate some x data: sixty data points from 0 to 4π\n",
        "x_sin = np.linspace(0,4*np.pi,60)\n",
        "\n",
        "# generate some y data: 1.5 * sin(1.2x + 0.5)\n",
        "# we add the np.random.normal(0.25,.25,60) at the end to add some randomness to the data\n",
        "y_sin = 1.5 * np.sin(1.2 * x_sin) + np.random.normal(.25,.25,60)\n",
        "\n",
        "y_cos = 1.5 * np.cos(1.2 * x_sin) + np.random.normal(.25,.25,60)\n",
        "# plot our data\n",
        "plt.subplot(211)\n",
        "plt.scatter(x_sin, y_sin, label = \"sin data\")\n",
        "plt.legend()\n",
        "plt.xlabel('x')\n",
        "plt.ylabel('y')\n",
        "\n",
        "plt.subplot(212)\n",
        "plt.scatter(x_sin, y_cos, label = \"cos data\")\n",
        "plt.legend()\n",
        "\n",
        "plt.xlabel('x')\n",
        "plt.ylabel('y')\n",
        "\n",
        "plt.show()\n"
      ]
    },
    {
      "cell_type": "markdown",
      "metadata": {
        "id": "gdi1OLFurcgn"
      },
      "source": [
        "<font size=+3>&#9998;</font> Put your *answer* here\n",
        "\n",
        "Yes, my debugging process worked. The two graphs are on the same plot (used subplot) and the legends have been applied to both series as well"
      ]
    },
    {
      "cell_type": "markdown",
      "metadata": {
        "id": "w0jXfIeUpgty"
      },
      "source": [
        "## &#128721; STOP **COMMIT YOUR WORK TO GIT NOW**\n",
        "\n",
        "You should commit early and often, but at least do it after you complete each homework problem."
      ]
    },
    {
      "cell_type": "markdown",
      "metadata": {
        "id": "-y69UHzUdSEp"
      },
      "source": [
        "# Part 3: New Packages (25 points total)\n",
        "\n",
        "In Part 1, you developed a workflow for the project your team is working on. One of your team members found this package that will help with some of the visualizations, however you discover that you don't currently have this package installed. \n",
        "\n",
        "A quick Google search tells you that the plotly Python library is an interactive, open-source plotting library that supports over 40 unique chart types covering a wide range of statistical, financial, geographic, scientific, and 3-dimensional use-cases. Sounds great, let's figure this out!\n",
        "\n",
        "## 3.1 Install Package using CLI\n",
        "You remember from class that you can install packages using the command line. Using your terminal, install the plotly package, then answer the following questions.\n",
        "\n",
        "### 3.1.1 (5 points): \n",
        "\n",
        "In the cell below, write down the command you used to install the package. "
      ]
    },
    {
      "cell_type": "markdown",
      "metadata": {
        "id": "fPWkcX5F0Xnw"
      },
      "source": [
        "<font size=6 color=\"#009600\">&#9998;</font> *Put your answer here.*\n",
        "\n",
        "`pip install plotly`"
      ]
    },
    {
      "cell_type": "markdown",
      "metadata": {
        "id": "WLyrHfzWQIra"
      },
      "source": [
        "# IMPORTANT NOTE\n",
        "\n",
        "Particularly if you are using JupyterHub, you may get a message similar to this one in your terminal:\n",
        "\n",
        "![package_exists.jpg](https://raw.githubusercontent.com/msu-cmse-courses/cmse202-S23-data/main//HW/HW1/package_exists.jpg)\n",
        "\n",
        "This means that the package has already been installed. If that is the case, you still need to provide the command you *would* use to install the package above, and then proceed to the rest of this problem.\n"
      ]
    },
    {
      "cell_type": "markdown",
      "metadata": {
        "id": "NUzK-Xa-0Fid"
      },
      "source": [
        "### 3.2 Reading Package Documentation\n",
        "\n",
        "Now that you've installed Plotly, its time to explore the package! What can this package do? The best place to find this information is in the [documentation](https://plotly.com/). \n",
        "\n",
        "### 3.2.1 (10 points): \n",
        "\n",
        "Answer the following questions:\n",
        "1. What kind of package is Plotly? (e.g. Mathematical, Graphing, Statistical, etc.)?  \n",
        "2. How many different tabs exist in the Plotly Open Source Graphing Libraries?\n",
        "3. When would you use Plotly?\n",
        "4. Are there any packages you know that are similar to plotly?\n",
        "5. What are some different charts/plots you can create with Plotly?\n"
      ]
    },
    {
      "cell_type": "markdown",
      "metadata": {
        "id": "wr6SQ5kI_lrz"
      },
      "source": [
        "<font size=6 color=\"#009600\">&#9998;</font> *Put your answer here.*\n",
        "\n",
        "\n",
        "\n",
        "1.   Plotly is a graphing library\n",
        "2.   There are 15 categories in the library\n",
        "3.   You would use Plotly in the same types of situations we would use Seaborn or Matplotlib -- to represent data graphically\n",
        "4.   Plotly is similiar to Seaborn and MatPlotLib\n",
        "5.   Line plots, scatter plots, area charts, bar charts, error bars, box plots, histograms, heatmaps, subplots, multiple-axes, polar charts, and bubble charts\n",
        "\n"
      ]
    },
    {
      "cell_type": "markdown",
      "metadata": {
        "id": "vPiM9hCV_lKw"
      },
      "source": [
        "### 3.3 Using The New Package\n",
        "Finally, it's time to use the newly installed package! Pick a dataset from the [data package](https://plotly.com/python-api-reference/generated/plotly.data.html) that is a part of Plotly \n",
        "\n",
        "\n",
        "### 3.3.1 (10 points):\n",
        "\n",
        "Create a graph using one of these datasets. You can use the documentation for inspiration, but try to change the variables around so you get to really experience the package! Make sure to include titles and axis labels!\n",
        "\n"
      ]
    },
    {
      "cell_type": "code",
      "source": [
        "import plotly.express as plotly\n",
        "\n",
        "df = plotly.data.iris()\n",
        "\n",
        "fig = plotly.scatter(data_frame=df, x=\"petal_length\", y=\"petal_width\", size_max=50, title=\"Petal Length vs Petal length with species\", color=\"species\")\n",
        "fig.show()"
      ],
      "metadata": {
        "colab": {
          "base_uri": "https://localhost:8080/",
          "height": 542
        },
        "id": "ZUC1_5GsmTYN",
        "outputId": "e5794956-2fe4-4169-8c95-700e30d9d118"
      },
      "execution_count": 49,
      "outputs": [
        {
          "output_type": "display_data",
          "data": {
            "text/html": [
              "<html>\n",
              "<head><meta charset=\"utf-8\" /></head>\n",
              "<body>\n",
              "    <div>            <script src=\"https://cdnjs.cloudflare.com/ajax/libs/mathjax/2.7.5/MathJax.js?config=TeX-AMS-MML_SVG\"></script><script type=\"text/javascript\">if (window.MathJax) {MathJax.Hub.Config({SVG: {font: \"STIX-Web\"}});}</script>                <script type=\"text/javascript\">window.PlotlyConfig = {MathJaxConfig: 'local'};</script>\n",
              "        <script src=\"https://cdn.plot.ly/plotly-2.8.3.min.js\"></script>                <div id=\"62b6ed87-3923-4fcc-8a8e-d205acc738dc\" class=\"plotly-graph-div\" style=\"height:525px; width:100%;\"></div>            <script type=\"text/javascript\">                                    window.PLOTLYENV=window.PLOTLYENV || {};                                    if (document.getElementById(\"62b6ed87-3923-4fcc-8a8e-d205acc738dc\")) {                    Plotly.newPlot(                        \"62b6ed87-3923-4fcc-8a8e-d205acc738dc\",                        [{\"hovertemplate\":\"species=setosa<br>petal_length=%{x}<br>petal_width=%{y}<extra></extra>\",\"legendgroup\":\"setosa\",\"marker\":{\"color\":\"#636efa\",\"symbol\":\"circle\"},\"mode\":\"markers\",\"name\":\"setosa\",\"orientation\":\"v\",\"showlegend\":true,\"x\":[1.4,1.4,1.3,1.5,1.4,1.7,1.4,1.5,1.4,1.5,1.5,1.6,1.4,1.1,1.2,1.5,1.3,1.4,1.7,1.5,1.7,1.5,1.0,1.7,1.9,1.6,1.6,1.5,1.4,1.6,1.6,1.5,1.5,1.4,1.5,1.2,1.3,1.5,1.3,1.5,1.3,1.3,1.3,1.6,1.9,1.4,1.6,1.4,1.5,1.4],\"xaxis\":\"x\",\"y\":[0.2,0.2,0.2,0.2,0.2,0.4,0.3,0.2,0.2,0.1,0.2,0.2,0.1,0.1,0.2,0.4,0.4,0.3,0.3,0.3,0.2,0.4,0.2,0.5,0.2,0.2,0.4,0.2,0.2,0.2,0.2,0.4,0.1,0.2,0.1,0.2,0.2,0.1,0.2,0.2,0.3,0.3,0.2,0.6,0.4,0.3,0.2,0.2,0.2,0.2],\"yaxis\":\"y\",\"type\":\"scatter\"},{\"hovertemplate\":\"species=versicolor<br>petal_length=%{x}<br>petal_width=%{y}<extra></extra>\",\"legendgroup\":\"versicolor\",\"marker\":{\"color\":\"#EF553B\",\"symbol\":\"circle\"},\"mode\":\"markers\",\"name\":\"versicolor\",\"orientation\":\"v\",\"showlegend\":true,\"x\":[4.7,4.5,4.9,4.0,4.6,4.5,4.7,3.3,4.6,3.9,3.5,4.2,4.0,4.7,3.6,4.4,4.5,4.1,4.5,3.9,4.8,4.0,4.9,4.7,4.3,4.4,4.8,5.0,4.5,3.5,3.8,3.7,3.9,5.1,4.5,4.5,4.7,4.4,4.1,4.0,4.4,4.6,4.0,3.3,4.2,4.2,4.2,4.3,3.0,4.1],\"xaxis\":\"x\",\"y\":[1.4,1.5,1.5,1.3,1.5,1.3,1.6,1.0,1.3,1.4,1.0,1.5,1.0,1.4,1.3,1.4,1.5,1.0,1.5,1.1,1.8,1.3,1.5,1.2,1.3,1.4,1.4,1.7,1.5,1.0,1.1,1.0,1.2,1.6,1.5,1.6,1.5,1.3,1.3,1.3,1.2,1.4,1.2,1.0,1.3,1.2,1.3,1.3,1.1,1.3],\"yaxis\":\"y\",\"type\":\"scatter\"},{\"hovertemplate\":\"species=virginica<br>petal_length=%{x}<br>petal_width=%{y}<extra></extra>\",\"legendgroup\":\"virginica\",\"marker\":{\"color\":\"#00cc96\",\"symbol\":\"circle\"},\"mode\":\"markers\",\"name\":\"virginica\",\"orientation\":\"v\",\"showlegend\":true,\"x\":[6.0,5.1,5.9,5.6,5.8,6.6,4.5,6.3,5.8,6.1,5.1,5.3,5.5,5.0,5.1,5.3,5.5,6.7,6.9,5.0,5.7,4.9,6.7,4.9,5.7,6.0,4.8,4.9,5.6,5.8,6.1,6.4,5.6,5.1,5.6,6.1,5.6,5.5,4.8,5.4,5.6,5.1,5.1,5.9,5.7,5.2,5.0,5.2,5.4,5.1],\"xaxis\":\"x\",\"y\":[2.5,1.9,2.1,1.8,2.2,2.1,1.7,1.8,1.8,2.5,2.0,1.9,2.1,2.0,2.4,2.3,1.8,2.2,2.3,1.5,2.3,2.0,2.0,1.8,2.1,1.8,1.8,1.8,2.1,1.6,1.9,2.0,2.2,1.5,1.4,2.3,2.4,1.8,1.8,2.1,2.4,2.3,1.9,2.3,2.5,2.3,1.9,2.0,2.3,1.8],\"yaxis\":\"y\",\"type\":\"scatter\"}],                        {\"template\":{\"data\":{\"bar\":[{\"error_x\":{\"color\":\"#2a3f5f\"},\"error_y\":{\"color\":\"#2a3f5f\"},\"marker\":{\"line\":{\"color\":\"#E5ECF6\",\"width\":0.5},\"pattern\":{\"fillmode\":\"overlay\",\"size\":10,\"solidity\":0.2}},\"type\":\"bar\"}],\"barpolar\":[{\"marker\":{\"line\":{\"color\":\"#E5ECF6\",\"width\":0.5},\"pattern\":{\"fillmode\":\"overlay\",\"size\":10,\"solidity\":0.2}},\"type\":\"barpolar\"}],\"carpet\":[{\"aaxis\":{\"endlinecolor\":\"#2a3f5f\",\"gridcolor\":\"white\",\"linecolor\":\"white\",\"minorgridcolor\":\"white\",\"startlinecolor\":\"#2a3f5f\"},\"baxis\":{\"endlinecolor\":\"#2a3f5f\",\"gridcolor\":\"white\",\"linecolor\":\"white\",\"minorgridcolor\":\"white\",\"startlinecolor\":\"#2a3f5f\"},\"type\":\"carpet\"}],\"choropleth\":[{\"colorbar\":{\"outlinewidth\":0,\"ticks\":\"\"},\"type\":\"choropleth\"}],\"contour\":[{\"colorbar\":{\"outlinewidth\":0,\"ticks\":\"\"},\"colorscale\":[[0.0,\"#0d0887\"],[0.1111111111111111,\"#46039f\"],[0.2222222222222222,\"#7201a8\"],[0.3333333333333333,\"#9c179e\"],[0.4444444444444444,\"#bd3786\"],[0.5555555555555556,\"#d8576b\"],[0.6666666666666666,\"#ed7953\"],[0.7777777777777778,\"#fb9f3a\"],[0.8888888888888888,\"#fdca26\"],[1.0,\"#f0f921\"]],\"type\":\"contour\"}],\"contourcarpet\":[{\"colorbar\":{\"outlinewidth\":0,\"ticks\":\"\"},\"type\":\"contourcarpet\"}],\"heatmap\":[{\"colorbar\":{\"outlinewidth\":0,\"ticks\":\"\"},\"colorscale\":[[0.0,\"#0d0887\"],[0.1111111111111111,\"#46039f\"],[0.2222222222222222,\"#7201a8\"],[0.3333333333333333,\"#9c179e\"],[0.4444444444444444,\"#bd3786\"],[0.5555555555555556,\"#d8576b\"],[0.6666666666666666,\"#ed7953\"],[0.7777777777777778,\"#fb9f3a\"],[0.8888888888888888,\"#fdca26\"],[1.0,\"#f0f921\"]],\"type\":\"heatmap\"}],\"heatmapgl\":[{\"colorbar\":{\"outlinewidth\":0,\"ticks\":\"\"},\"colorscale\":[[0.0,\"#0d0887\"],[0.1111111111111111,\"#46039f\"],[0.2222222222222222,\"#7201a8\"],[0.3333333333333333,\"#9c179e\"],[0.4444444444444444,\"#bd3786\"],[0.5555555555555556,\"#d8576b\"],[0.6666666666666666,\"#ed7953\"],[0.7777777777777778,\"#fb9f3a\"],[0.8888888888888888,\"#fdca26\"],[1.0,\"#f0f921\"]],\"type\":\"heatmapgl\"}],\"histogram\":[{\"marker\":{\"pattern\":{\"fillmode\":\"overlay\",\"size\":10,\"solidity\":0.2}},\"type\":\"histogram\"}],\"histogram2d\":[{\"colorbar\":{\"outlinewidth\":0,\"ticks\":\"\"},\"colorscale\":[[0.0,\"#0d0887\"],[0.1111111111111111,\"#46039f\"],[0.2222222222222222,\"#7201a8\"],[0.3333333333333333,\"#9c179e\"],[0.4444444444444444,\"#bd3786\"],[0.5555555555555556,\"#d8576b\"],[0.6666666666666666,\"#ed7953\"],[0.7777777777777778,\"#fb9f3a\"],[0.8888888888888888,\"#fdca26\"],[1.0,\"#f0f921\"]],\"type\":\"histogram2d\"}],\"histogram2dcontour\":[{\"colorbar\":{\"outlinewidth\":0,\"ticks\":\"\"},\"colorscale\":[[0.0,\"#0d0887\"],[0.1111111111111111,\"#46039f\"],[0.2222222222222222,\"#7201a8\"],[0.3333333333333333,\"#9c179e\"],[0.4444444444444444,\"#bd3786\"],[0.5555555555555556,\"#d8576b\"],[0.6666666666666666,\"#ed7953\"],[0.7777777777777778,\"#fb9f3a\"],[0.8888888888888888,\"#fdca26\"],[1.0,\"#f0f921\"]],\"type\":\"histogram2dcontour\"}],\"mesh3d\":[{\"colorbar\":{\"outlinewidth\":0,\"ticks\":\"\"},\"type\":\"mesh3d\"}],\"parcoords\":[{\"line\":{\"colorbar\":{\"outlinewidth\":0,\"ticks\":\"\"}},\"type\":\"parcoords\"}],\"pie\":[{\"automargin\":true,\"type\":\"pie\"}],\"scatter\":[{\"marker\":{\"colorbar\":{\"outlinewidth\":0,\"ticks\":\"\"}},\"type\":\"scatter\"}],\"scatter3d\":[{\"line\":{\"colorbar\":{\"outlinewidth\":0,\"ticks\":\"\"}},\"marker\":{\"colorbar\":{\"outlinewidth\":0,\"ticks\":\"\"}},\"type\":\"scatter3d\"}],\"scattercarpet\":[{\"marker\":{\"colorbar\":{\"outlinewidth\":0,\"ticks\":\"\"}},\"type\":\"scattercarpet\"}],\"scattergeo\":[{\"marker\":{\"colorbar\":{\"outlinewidth\":0,\"ticks\":\"\"}},\"type\":\"scattergeo\"}],\"scattergl\":[{\"marker\":{\"colorbar\":{\"outlinewidth\":0,\"ticks\":\"\"}},\"type\":\"scattergl\"}],\"scattermapbox\":[{\"marker\":{\"colorbar\":{\"outlinewidth\":0,\"ticks\":\"\"}},\"type\":\"scattermapbox\"}],\"scatterpolar\":[{\"marker\":{\"colorbar\":{\"outlinewidth\":0,\"ticks\":\"\"}},\"type\":\"scatterpolar\"}],\"scatterpolargl\":[{\"marker\":{\"colorbar\":{\"outlinewidth\":0,\"ticks\":\"\"}},\"type\":\"scatterpolargl\"}],\"scatterternary\":[{\"marker\":{\"colorbar\":{\"outlinewidth\":0,\"ticks\":\"\"}},\"type\":\"scatterternary\"}],\"surface\":[{\"colorbar\":{\"outlinewidth\":0,\"ticks\":\"\"},\"colorscale\":[[0.0,\"#0d0887\"],[0.1111111111111111,\"#46039f\"],[0.2222222222222222,\"#7201a8\"],[0.3333333333333333,\"#9c179e\"],[0.4444444444444444,\"#bd3786\"],[0.5555555555555556,\"#d8576b\"],[0.6666666666666666,\"#ed7953\"],[0.7777777777777778,\"#fb9f3a\"],[0.8888888888888888,\"#fdca26\"],[1.0,\"#f0f921\"]],\"type\":\"surface\"}],\"table\":[{\"cells\":{\"fill\":{\"color\":\"#EBF0F8\"},\"line\":{\"color\":\"white\"}},\"header\":{\"fill\":{\"color\":\"#C8D4E3\"},\"line\":{\"color\":\"white\"}},\"type\":\"table\"}]},\"layout\":{\"annotationdefaults\":{\"arrowcolor\":\"#2a3f5f\",\"arrowhead\":0,\"arrowwidth\":1},\"autotypenumbers\":\"strict\",\"coloraxis\":{\"colorbar\":{\"outlinewidth\":0,\"ticks\":\"\"}},\"colorscale\":{\"diverging\":[[0,\"#8e0152\"],[0.1,\"#c51b7d\"],[0.2,\"#de77ae\"],[0.3,\"#f1b6da\"],[0.4,\"#fde0ef\"],[0.5,\"#f7f7f7\"],[0.6,\"#e6f5d0\"],[0.7,\"#b8e186\"],[0.8,\"#7fbc41\"],[0.9,\"#4d9221\"],[1,\"#276419\"]],\"sequential\":[[0.0,\"#0d0887\"],[0.1111111111111111,\"#46039f\"],[0.2222222222222222,\"#7201a8\"],[0.3333333333333333,\"#9c179e\"],[0.4444444444444444,\"#bd3786\"],[0.5555555555555556,\"#d8576b\"],[0.6666666666666666,\"#ed7953\"],[0.7777777777777778,\"#fb9f3a\"],[0.8888888888888888,\"#fdca26\"],[1.0,\"#f0f921\"]],\"sequentialminus\":[[0.0,\"#0d0887\"],[0.1111111111111111,\"#46039f\"],[0.2222222222222222,\"#7201a8\"],[0.3333333333333333,\"#9c179e\"],[0.4444444444444444,\"#bd3786\"],[0.5555555555555556,\"#d8576b\"],[0.6666666666666666,\"#ed7953\"],[0.7777777777777778,\"#fb9f3a\"],[0.8888888888888888,\"#fdca26\"],[1.0,\"#f0f921\"]]},\"colorway\":[\"#636efa\",\"#EF553B\",\"#00cc96\",\"#ab63fa\",\"#FFA15A\",\"#19d3f3\",\"#FF6692\",\"#B6E880\",\"#FF97FF\",\"#FECB52\"],\"font\":{\"color\":\"#2a3f5f\"},\"geo\":{\"bgcolor\":\"white\",\"lakecolor\":\"white\",\"landcolor\":\"#E5ECF6\",\"showlakes\":true,\"showland\":true,\"subunitcolor\":\"white\"},\"hoverlabel\":{\"align\":\"left\"},\"hovermode\":\"closest\",\"mapbox\":{\"style\":\"light\"},\"paper_bgcolor\":\"white\",\"plot_bgcolor\":\"#E5ECF6\",\"polar\":{\"angularaxis\":{\"gridcolor\":\"white\",\"linecolor\":\"white\",\"ticks\":\"\"},\"bgcolor\":\"#E5ECF6\",\"radialaxis\":{\"gridcolor\":\"white\",\"linecolor\":\"white\",\"ticks\":\"\"}},\"scene\":{\"xaxis\":{\"backgroundcolor\":\"#E5ECF6\",\"gridcolor\":\"white\",\"gridwidth\":2,\"linecolor\":\"white\",\"showbackground\":true,\"ticks\":\"\",\"zerolinecolor\":\"white\"},\"yaxis\":{\"backgroundcolor\":\"#E5ECF6\",\"gridcolor\":\"white\",\"gridwidth\":2,\"linecolor\":\"white\",\"showbackground\":true,\"ticks\":\"\",\"zerolinecolor\":\"white\"},\"zaxis\":{\"backgroundcolor\":\"#E5ECF6\",\"gridcolor\":\"white\",\"gridwidth\":2,\"linecolor\":\"white\",\"showbackground\":true,\"ticks\":\"\",\"zerolinecolor\":\"white\"}},\"shapedefaults\":{\"line\":{\"color\":\"#2a3f5f\"}},\"ternary\":{\"aaxis\":{\"gridcolor\":\"white\",\"linecolor\":\"white\",\"ticks\":\"\"},\"baxis\":{\"gridcolor\":\"white\",\"linecolor\":\"white\",\"ticks\":\"\"},\"bgcolor\":\"#E5ECF6\",\"caxis\":{\"gridcolor\":\"white\",\"linecolor\":\"white\",\"ticks\":\"\"}},\"title\":{\"x\":0.05},\"xaxis\":{\"automargin\":true,\"gridcolor\":\"white\",\"linecolor\":\"white\",\"ticks\":\"\",\"title\":{\"standoff\":15},\"zerolinecolor\":\"white\",\"zerolinewidth\":2},\"yaxis\":{\"automargin\":true,\"gridcolor\":\"white\",\"linecolor\":\"white\",\"ticks\":\"\",\"title\":{\"standoff\":15},\"zerolinecolor\":\"white\",\"zerolinewidth\":2}}},\"xaxis\":{\"anchor\":\"y\",\"domain\":[0.0,1.0],\"title\":{\"text\":\"petal_length\"}},\"yaxis\":{\"anchor\":\"x\",\"domain\":[0.0,1.0],\"title\":{\"text\":\"petal_width\"}},\"legend\":{\"title\":{\"text\":\"species\"},\"tracegroupgap\":0},\"title\":{\"text\":\"Petal Length vs Petal length with species\"}},                        {\"responsive\": true}                    ).then(function(){\n",
              "                            \n",
              "var gd = document.getElementById('62b6ed87-3923-4fcc-8a8e-d205acc738dc');\n",
              "var x = new MutationObserver(function (mutations, observer) {{\n",
              "        var display = window.getComputedStyle(gd).display;\n",
              "        if (!display || display === 'none') {{\n",
              "            console.log([gd, 'removed!']);\n",
              "            Plotly.purge(gd);\n",
              "            observer.disconnect();\n",
              "        }}\n",
              "}});\n",
              "\n",
              "// Listen for the removal of the full notebook cells\n",
              "var notebookContainer = gd.closest('#notebook-container');\n",
              "if (notebookContainer) {{\n",
              "    x.observe(notebookContainer, {childList: true});\n",
              "}}\n",
              "\n",
              "// Listen for the clearing of the current output cell\n",
              "var outputEl = gd.closest('.output');\n",
              "if (outputEl) {{\n",
              "    x.observe(outputEl, {childList: true});\n",
              "}}\n",
              "\n",
              "                        })                };                            </script>        </div>\n",
              "</body>\n",
              "</html>"
            ]
          },
          "metadata": {}
        }
      ]
    },
    {
      "cell_type": "markdown",
      "metadata": {
        "id": "ybbrqSTypszA"
      },
      "source": [
        "---\n",
        "\n",
        "# Part 4: Finishing (5 points)\n",
        "\n",
        "\n",
        "&#9989; Have you put **your name** and **GitHub username** at the top of your notebook?\n",
        "\n",
        "&#9989; Have you added the **TA** and **Instructor** to your GitHub repository?\n",
        "\n",
        "\n",
        "&#9989; Push your repository to GitHub.\n",
        "\n",
        "\n",
        "```bash\n",
        "# Put the command you used to push to GitHub here\n",
        "\n",
        "git push\n",
        "```\n",
        "\n",
        "**NOTE:** The grader is able to see your commit messages and whether you pushed the repo at this stage.\n"
      ]
    },
    {
      "cell_type": "markdown",
      "metadata": {
        "id": "P5sGvK7sqNoX"
      },
      "source": [
        "---\n",
        "## Assignment wrap-up"
      ]
    },
    {
      "cell_type": "markdown",
      "metadata": {
        "id": "fEw79O_XqO93"
      },
      "source": [
        "### Congratulations, you're done!\n",
        "\n",
        "Submit this assignment by uploading it to the course Desire2Learn web page.  Go to the **\"Homework Assignments\"** folder, find the dropbox link for Homework #1, and upload it there."
      ]
    },
    {
      "cell_type": "markdown",
      "metadata": {
        "id": "olTHsASyqTP6"
      },
      "source": [
        "&#169; Copyright 2023,  Department of Computational Mathematics, Science and Engineering at Michigan State University"
      ]
    }
  ],
  "metadata": {
    "colab": {
      "provenance": [],
      "include_colab_link": true
    },
    "kernelspec": {
      "display_name": "Python 3.8.9 64-bit",
      "language": "python",
      "name": "python3"
    },
    "language_info": {
      "codemirror_mode": {
        "name": "ipython",
        "version": 3
      },
      "file_extension": ".py",
      "mimetype": "text/x-python",
      "name": "python",
      "nbconvert_exporter": "python",
      "pygments_lexer": "ipython3",
      "version": "3.8.9"
    },
    "vscode": {
      "interpreter": {
        "hash": "31f2aee4e71d21fbe5cf8b01ff0e069b9275f58929596ceb00d14d90e3e16cd6"
      }
    }
  },
  "nbformat": 4,
  "nbformat_minor": 0
}